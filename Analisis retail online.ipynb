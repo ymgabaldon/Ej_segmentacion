{
 "cells": [
  {
   "cell_type": "code",
   "execution_count": 78,
   "id": "6334b6af",
   "metadata": {},
   "outputs": [],
   "source": [
    "import pandas as pd\n",
    "import numpy as np\n",
    "import matplotlib.pyplot as plt\n",
    "import seaborn as sns\n",
    "import warnings\n",
    "import os\n",
    "import plotly.express as px\n",
    "\n",
    "\n",
    "plt.style.use(\"ggplot\")\n",
    "warnings.filterwarnings(\"ignore\")"
   ]
  },
  {
   "cell_type": "code",
   "execution_count": 38,
   "id": "f7030051",
   "metadata": {},
   "outputs": [],
   "source": [
    "ruta=\"D:\\\\J\\\\Big data\\\\DATAHACK\\\\PYTHON\\\\006-_Caso_segmentacion\\FMCG\\\\\"\n",
    "ruta_linux='/home/user/Datahack/Datos_Segmentacion/'\n",
    "archivo=\"segmentation data.csv\""
   ]
  },
  {
   "cell_type": "code",
   "execution_count": 39,
   "id": "eef0c238",
   "metadata": {
    "scrolled": true
   },
   "outputs": [],
   "source": [
    "#df=pd.read_csv(ruta+archivo,sep=\",\")\n",
    "df=pd.read_csv(ruta_linux+archivo,sep=\",\")"
   ]
  },
  {
   "cell_type": "code",
   "execution_count": 40,
   "id": "b4034b01",
   "metadata": {},
   "outputs": [
    {
     "data": {
      "text/html": [
       "<div>\n",
       "<style scoped>\n",
       "    .dataframe tbody tr th:only-of-type {\n",
       "        vertical-align: middle;\n",
       "    }\n",
       "\n",
       "    .dataframe tbody tr th {\n",
       "        vertical-align: top;\n",
       "    }\n",
       "\n",
       "    .dataframe thead th {\n",
       "        text-align: right;\n",
       "    }\n",
       "</style>\n",
       "<table border=\"1\" class=\"dataframe\">\n",
       "  <thead>\n",
       "    <tr style=\"text-align: right;\">\n",
       "      <th></th>\n",
       "      <th>ID</th>\n",
       "      <th>Sex</th>\n",
       "      <th>Marital status</th>\n",
       "      <th>Age</th>\n",
       "      <th>Education</th>\n",
       "      <th>Income</th>\n",
       "      <th>Occupation</th>\n",
       "      <th>Settlement size</th>\n",
       "    </tr>\n",
       "  </thead>\n",
       "  <tbody>\n",
       "    <tr>\n",
       "      <th>0</th>\n",
       "      <td>100000001</td>\n",
       "      <td>0</td>\n",
       "      <td>0</td>\n",
       "      <td>67</td>\n",
       "      <td>2</td>\n",
       "      <td>124670</td>\n",
       "      <td>1</td>\n",
       "      <td>2</td>\n",
       "    </tr>\n",
       "    <tr>\n",
       "      <th>1</th>\n",
       "      <td>100000002</td>\n",
       "      <td>1</td>\n",
       "      <td>1</td>\n",
       "      <td>22</td>\n",
       "      <td>1</td>\n",
       "      <td>150773</td>\n",
       "      <td>1</td>\n",
       "      <td>2</td>\n",
       "    </tr>\n",
       "    <tr>\n",
       "      <th>2</th>\n",
       "      <td>100000003</td>\n",
       "      <td>0</td>\n",
       "      <td>0</td>\n",
       "      <td>49</td>\n",
       "      <td>1</td>\n",
       "      <td>89210</td>\n",
       "      <td>0</td>\n",
       "      <td>0</td>\n",
       "    </tr>\n",
       "    <tr>\n",
       "      <th>3</th>\n",
       "      <td>100000004</td>\n",
       "      <td>0</td>\n",
       "      <td>0</td>\n",
       "      <td>45</td>\n",
       "      <td>1</td>\n",
       "      <td>171565</td>\n",
       "      <td>1</td>\n",
       "      <td>1</td>\n",
       "    </tr>\n",
       "    <tr>\n",
       "      <th>4</th>\n",
       "      <td>100000005</td>\n",
       "      <td>0</td>\n",
       "      <td>0</td>\n",
       "      <td>53</td>\n",
       "      <td>1</td>\n",
       "      <td>149031</td>\n",
       "      <td>1</td>\n",
       "      <td>1</td>\n",
       "    </tr>\n",
       "    <tr>\n",
       "      <th>...</th>\n",
       "      <td>...</td>\n",
       "      <td>...</td>\n",
       "      <td>...</td>\n",
       "      <td>...</td>\n",
       "      <td>...</td>\n",
       "      <td>...</td>\n",
       "      <td>...</td>\n",
       "      <td>...</td>\n",
       "    </tr>\n",
       "    <tr>\n",
       "      <th>1995</th>\n",
       "      <td>100001996</td>\n",
       "      <td>1</td>\n",
       "      <td>0</td>\n",
       "      <td>47</td>\n",
       "      <td>1</td>\n",
       "      <td>123525</td>\n",
       "      <td>0</td>\n",
       "      <td>0</td>\n",
       "    </tr>\n",
       "    <tr>\n",
       "      <th>1996</th>\n",
       "      <td>100001997</td>\n",
       "      <td>1</td>\n",
       "      <td>1</td>\n",
       "      <td>27</td>\n",
       "      <td>1</td>\n",
       "      <td>117744</td>\n",
       "      <td>1</td>\n",
       "      <td>0</td>\n",
       "    </tr>\n",
       "    <tr>\n",
       "      <th>1997</th>\n",
       "      <td>100001998</td>\n",
       "      <td>0</td>\n",
       "      <td>0</td>\n",
       "      <td>31</td>\n",
       "      <td>0</td>\n",
       "      <td>86400</td>\n",
       "      <td>0</td>\n",
       "      <td>0</td>\n",
       "    </tr>\n",
       "    <tr>\n",
       "      <th>1998</th>\n",
       "      <td>100001999</td>\n",
       "      <td>1</td>\n",
       "      <td>1</td>\n",
       "      <td>24</td>\n",
       "      <td>1</td>\n",
       "      <td>97968</td>\n",
       "      <td>0</td>\n",
       "      <td>0</td>\n",
       "    </tr>\n",
       "    <tr>\n",
       "      <th>1999</th>\n",
       "      <td>100002000</td>\n",
       "      <td>0</td>\n",
       "      <td>0</td>\n",
       "      <td>25</td>\n",
       "      <td>0</td>\n",
       "      <td>68416</td>\n",
       "      <td>0</td>\n",
       "      <td>0</td>\n",
       "    </tr>\n",
       "  </tbody>\n",
       "</table>\n",
       "<p>2000 rows × 8 columns</p>\n",
       "</div>"
      ],
      "text/plain": [
       "             ID  Sex  Marital status  Age  Education  Income  Occupation  \\\n",
       "0     100000001    0               0   67          2  124670           1   \n",
       "1     100000002    1               1   22          1  150773           1   \n",
       "2     100000003    0               0   49          1   89210           0   \n",
       "3     100000004    0               0   45          1  171565           1   \n",
       "4     100000005    0               0   53          1  149031           1   \n",
       "...         ...  ...             ...  ...        ...     ...         ...   \n",
       "1995  100001996    1               0   47          1  123525           0   \n",
       "1996  100001997    1               1   27          1  117744           1   \n",
       "1997  100001998    0               0   31          0   86400           0   \n",
       "1998  100001999    1               1   24          1   97968           0   \n",
       "1999  100002000    0               0   25          0   68416           0   \n",
       "\n",
       "      Settlement size  \n",
       "0                   2  \n",
       "1                   2  \n",
       "2                   0  \n",
       "3                   1  \n",
       "4                   1  \n",
       "...               ...  \n",
       "1995                0  \n",
       "1996                0  \n",
       "1997                0  \n",
       "1998                0  \n",
       "1999                0  \n",
       "\n",
       "[2000 rows x 8 columns]"
      ]
     },
     "execution_count": 40,
     "metadata": {},
     "output_type": "execute_result"
    }
   ],
   "source": [
    "df"
   ]
  },
  {
   "cell_type": "markdown",
   "id": "12c8aeb9",
   "metadata": {},
   "source": [
    "Pretratamiento"
   ]
  },
  {
   "cell_type": "code",
   "execution_count": 41,
   "id": "e979bf70",
   "metadata": {},
   "outputs": [
    {
     "name": "stdout",
     "output_type": "stream",
     "text": [
      "<class 'pandas.core.frame.DataFrame'>\n",
      "RangeIndex: 2000 entries, 0 to 1999\n",
      "Data columns (total 8 columns):\n",
      " #   Column           Non-Null Count  Dtype\n",
      "---  ------           --------------  -----\n",
      " 0   ID               2000 non-null   int64\n",
      " 1   Sex              2000 non-null   int64\n",
      " 2   Marital status   2000 non-null   int64\n",
      " 3   Age              2000 non-null   int64\n",
      " 4   Education        2000 non-null   int64\n",
      " 5   Income           2000 non-null   int64\n",
      " 6   Occupation       2000 non-null   int64\n",
      " 7   Settlement size  2000 non-null   int64\n",
      "dtypes: int64(8)\n",
      "memory usage: 125.1 KB\n"
     ]
    }
   ],
   "source": [
    "df.info()"
   ]
  },
  {
   "cell_type": "code",
   "execution_count": 42,
   "id": "0e22edb1",
   "metadata": {},
   "outputs": [
    {
     "data": {
      "text/html": [
       "<div>\n",
       "<style scoped>\n",
       "    .dataframe tbody tr th:only-of-type {\n",
       "        vertical-align: middle;\n",
       "    }\n",
       "\n",
       "    .dataframe tbody tr th {\n",
       "        vertical-align: top;\n",
       "    }\n",
       "\n",
       "    .dataframe thead th {\n",
       "        text-align: right;\n",
       "    }\n",
       "</style>\n",
       "<table border=\"1\" class=\"dataframe\">\n",
       "  <thead>\n",
       "    <tr style=\"text-align: right;\">\n",
       "      <th></th>\n",
       "      <th>ID</th>\n",
       "      <th>Sex</th>\n",
       "      <th>Marital status</th>\n",
       "      <th>Age</th>\n",
       "      <th>Education</th>\n",
       "      <th>Income</th>\n",
       "      <th>Occupation</th>\n",
       "      <th>Settlement size</th>\n",
       "    </tr>\n",
       "  </thead>\n",
       "  <tbody>\n",
       "    <tr>\n",
       "      <th>count</th>\n",
       "      <td>2.000000e+03</td>\n",
       "      <td>2000.000000</td>\n",
       "      <td>2000.000000</td>\n",
       "      <td>2000.000000</td>\n",
       "      <td>2000.00000</td>\n",
       "      <td>2000.000000</td>\n",
       "      <td>2000.000000</td>\n",
       "      <td>2000.000000</td>\n",
       "    </tr>\n",
       "    <tr>\n",
       "      <th>mean</th>\n",
       "      <td>1.000010e+08</td>\n",
       "      <td>0.457000</td>\n",
       "      <td>0.496500</td>\n",
       "      <td>35.909000</td>\n",
       "      <td>1.03800</td>\n",
       "      <td>120954.419000</td>\n",
       "      <td>0.810500</td>\n",
       "      <td>0.739000</td>\n",
       "    </tr>\n",
       "    <tr>\n",
       "      <th>std</th>\n",
       "      <td>5.774946e+02</td>\n",
       "      <td>0.498272</td>\n",
       "      <td>0.500113</td>\n",
       "      <td>11.719402</td>\n",
       "      <td>0.59978</td>\n",
       "      <td>38108.824679</td>\n",
       "      <td>0.638587</td>\n",
       "      <td>0.812533</td>\n",
       "    </tr>\n",
       "    <tr>\n",
       "      <th>min</th>\n",
       "      <td>1.000000e+08</td>\n",
       "      <td>0.000000</td>\n",
       "      <td>0.000000</td>\n",
       "      <td>18.000000</td>\n",
       "      <td>0.00000</td>\n",
       "      <td>35832.000000</td>\n",
       "      <td>0.000000</td>\n",
       "      <td>0.000000</td>\n",
       "    </tr>\n",
       "    <tr>\n",
       "      <th>25%</th>\n",
       "      <td>1.000005e+08</td>\n",
       "      <td>0.000000</td>\n",
       "      <td>0.000000</td>\n",
       "      <td>27.000000</td>\n",
       "      <td>1.00000</td>\n",
       "      <td>97663.250000</td>\n",
       "      <td>0.000000</td>\n",
       "      <td>0.000000</td>\n",
       "    </tr>\n",
       "    <tr>\n",
       "      <th>50%</th>\n",
       "      <td>1.000010e+08</td>\n",
       "      <td>0.000000</td>\n",
       "      <td>0.000000</td>\n",
       "      <td>33.000000</td>\n",
       "      <td>1.00000</td>\n",
       "      <td>115548.500000</td>\n",
       "      <td>1.000000</td>\n",
       "      <td>1.000000</td>\n",
       "    </tr>\n",
       "    <tr>\n",
       "      <th>75%</th>\n",
       "      <td>1.000015e+08</td>\n",
       "      <td>1.000000</td>\n",
       "      <td>1.000000</td>\n",
       "      <td>42.000000</td>\n",
       "      <td>1.00000</td>\n",
       "      <td>138072.250000</td>\n",
       "      <td>1.000000</td>\n",
       "      <td>1.000000</td>\n",
       "    </tr>\n",
       "    <tr>\n",
       "      <th>max</th>\n",
       "      <td>1.000020e+08</td>\n",
       "      <td>1.000000</td>\n",
       "      <td>1.000000</td>\n",
       "      <td>76.000000</td>\n",
       "      <td>3.00000</td>\n",
       "      <td>309364.000000</td>\n",
       "      <td>2.000000</td>\n",
       "      <td>2.000000</td>\n",
       "    </tr>\n",
       "  </tbody>\n",
       "</table>\n",
       "</div>"
      ],
      "text/plain": [
       "                 ID          Sex  Marital status          Age   Education  \\\n",
       "count  2.000000e+03  2000.000000     2000.000000  2000.000000  2000.00000   \n",
       "mean   1.000010e+08     0.457000        0.496500    35.909000     1.03800   \n",
       "std    5.774946e+02     0.498272        0.500113    11.719402     0.59978   \n",
       "min    1.000000e+08     0.000000        0.000000    18.000000     0.00000   \n",
       "25%    1.000005e+08     0.000000        0.000000    27.000000     1.00000   \n",
       "50%    1.000010e+08     0.000000        0.000000    33.000000     1.00000   \n",
       "75%    1.000015e+08     1.000000        1.000000    42.000000     1.00000   \n",
       "max    1.000020e+08     1.000000        1.000000    76.000000     3.00000   \n",
       "\n",
       "              Income   Occupation  Settlement size  \n",
       "count    2000.000000  2000.000000      2000.000000  \n",
       "mean   120954.419000     0.810500         0.739000  \n",
       "std     38108.824679     0.638587         0.812533  \n",
       "min     35832.000000     0.000000         0.000000  \n",
       "25%     97663.250000     0.000000         0.000000  \n",
       "50%    115548.500000     1.000000         1.000000  \n",
       "75%    138072.250000     1.000000         1.000000  \n",
       "max    309364.000000     2.000000         2.000000  "
      ]
     },
     "execution_count": 42,
     "metadata": {},
     "output_type": "execute_result"
    }
   ],
   "source": [
    "df.describe()"
   ]
  },
  {
   "cell_type": "code",
   "execution_count": 43,
   "id": "50dd67d3",
   "metadata": {},
   "outputs": [
    {
     "data": {
      "image/png": "[encoded data removed]",
      "text/plain": [
       "<Figure size 1440x720 with 2 Axes>"
      ]
     },
     "metadata": {},
     "output_type": "display_data"
    }
   ],
   "source": [
    "fig,axes=plt.subplots(nrows=1,ncols=2,figsize=(20,10))\n",
    "sns.boxplot(data=df[[\"Age\"]],ax=axes[0],palette='Reds')\n",
    "sns.boxplot(data=df[[\"Income\"]],ax=axes[1],palette='Blues');"
   ]
  },
  {
   "cell_type": "markdown",
   "id": "95328d67",
   "metadata": {},
   "source": [
    "Prueba 1: mantenemos como numéricas la edad y los ingresos y el resto como categóricas.\n",
    "\n",
    "Pâra las categóricas onehot, para las numéricas, standard scaler"
   ]
  },
  {
   "cell_type": "code",
   "execution_count": 44,
   "id": "1504249f",
   "metadata": {},
   "outputs": [],
   "source": [
    "numericas=[\"Age\",\"Income\"]\n",
    "Ids=[\"ID\"]\n",
    "categoricas=[s for s in df.columns if (s not in numericas) and (s not in Ids)]"
   ]
  },
  {
   "cell_type": "code",
   "execution_count": 45,
   "id": "8795f72d",
   "metadata": {},
   "outputs": [
    {
     "data": {
      "text/plain": [
       "['Sex', 'Marital status', 'Education', 'Occupation', 'Settlement size']"
      ]
     },
     "execution_count": 45,
     "metadata": {},
     "output_type": "execute_result"
    }
   ],
   "source": [
    "\n",
    "categoricas"
   ]
  },
  {
   "cell_type": "code",
   "execution_count": 46,
   "id": "b3729888",
   "metadata": {},
   "outputs": [],
   "source": [
    "from sklearn.preprocessing import OneHotEncoder"
   ]
  },
  {
   "cell_type": "code",
   "execution_count": 47,
   "id": "1486f432",
   "metadata": {},
   "outputs": [],
   "source": [
    "encoder=OneHotEncoder(handle_unknown='ignore')"
   ]
  },
  {
   "cell_type": "code",
   "execution_count": 48,
   "id": "80817d5f",
   "metadata": {},
   "outputs": [
    {
     "data": {
      "text/plain": [
       "OneHotEncoder(handle_unknown='ignore')"
      ]
     },
     "execution_count": 48,
     "metadata": {},
     "output_type": "execute_result"
    }
   ],
   "source": [
    "encoder.fit(df[categoricas])"
   ]
  },
  {
   "cell_type": "code",
   "execution_count": 49,
   "id": "958bb87c",
   "metadata": {},
   "outputs": [
    {
     "data": {
      "text/plain": [
       "array([[1., 0., 1., ..., 0., 0., 1.],\n",
       "       [0., 1., 0., ..., 0., 0., 1.],\n",
       "       [1., 0., 1., ..., 1., 0., 0.],\n",
       "       ...,\n",
       "       [1., 0., 1., ..., 1., 0., 0.],\n",
       "       [0., 1., 0., ..., 1., 0., 0.],\n",
       "       [1., 0., 1., ..., 1., 0., 0.]])"
      ]
     },
     "execution_count": 49,
     "metadata": {},
     "output_type": "execute_result"
    }
   ],
   "source": [
    "encoder.transform(df[categoricas]).toarray()"
   ]
  },
  {
   "cell_type": "code",
   "execution_count": 50,
   "id": "704012ec",
   "metadata": {},
   "outputs": [
    {
     "name": "stdout",
     "output_type": "stream",
     "text": [
      "0    1086\n",
      "1     914\n",
      "Name: Sex, dtype: int64\n",
      "0    1007\n",
      "1     993\n",
      "Name: Marital status, dtype: int64\n",
      "1    1386\n",
      "2     291\n",
      "0     287\n",
      "3      36\n",
      "Name: Education, dtype: int64\n",
      "1    1113\n",
      "0     633\n",
      "2     254\n",
      "Name: Occupation, dtype: int64\n",
      "0    989\n",
      "1    544\n",
      "2    467\n",
      "Name: Settlement size, dtype: int64\n"
     ]
    }
   ],
   "source": [
    "for col in categoricas:\n",
    "    print(df[col].value_counts())"
   ]
  },
  {
   "cell_type": "markdown",
   "id": "67b26740",
   "metadata": {},
   "source": [
    "Vamos a convertir las columnas Education, Occupation y Settlement\n",
    "Education:\n",
    "\n",
    "- 0\tother / unknown\n",
    "- 1\thigh school\n",
    "- 2\tuniversity\n",
    "- 3\tgraduate school- "
   ]
  },
  {
   "cell_type": "code",
   "execution_count": 51,
   "id": "04bbf911",
   "metadata": {},
   "outputs": [
    {
     "data": {
      "text/html": [
       "<div>\n",
       "<style scoped>\n",
       "    .dataframe tbody tr th:only-of-type {\n",
       "        vertical-align: middle;\n",
       "    }\n",
       "\n",
       "    .dataframe tbody tr th {\n",
       "        vertical-align: top;\n",
       "    }\n",
       "\n",
       "    .dataframe thead th {\n",
       "        text-align: right;\n",
       "    }\n",
       "</style>\n",
       "<table border=\"1\" class=\"dataframe\">\n",
       "  <thead>\n",
       "    <tr style=\"text-align: right;\">\n",
       "      <th></th>\n",
       "      <th>0</th>\n",
       "      <th>1</th>\n",
       "      <th>2</th>\n",
       "      <th>3</th>\n",
       "    </tr>\n",
       "  </thead>\n",
       "  <tbody>\n",
       "    <tr>\n",
       "      <th>0</th>\n",
       "      <td>0</td>\n",
       "      <td>0</td>\n",
       "      <td>1</td>\n",
       "      <td>0</td>\n",
       "    </tr>\n",
       "    <tr>\n",
       "      <th>1</th>\n",
       "      <td>0</td>\n",
       "      <td>1</td>\n",
       "      <td>0</td>\n",
       "      <td>0</td>\n",
       "    </tr>\n",
       "    <tr>\n",
       "      <th>2</th>\n",
       "      <td>0</td>\n",
       "      <td>1</td>\n",
       "      <td>0</td>\n",
       "      <td>0</td>\n",
       "    </tr>\n",
       "    <tr>\n",
       "      <th>3</th>\n",
       "      <td>0</td>\n",
       "      <td>1</td>\n",
       "      <td>0</td>\n",
       "      <td>0</td>\n",
       "    </tr>\n",
       "    <tr>\n",
       "      <th>4</th>\n",
       "      <td>0</td>\n",
       "      <td>1</td>\n",
       "      <td>0</td>\n",
       "      <td>0</td>\n",
       "    </tr>\n",
       "  </tbody>\n",
       "</table>\n",
       "</div>"
      ],
      "text/plain": [
       "   0  1  2  3\n",
       "0  0  0  1  0\n",
       "1  0  1  0  0\n",
       "2  0  1  0  0\n",
       "3  0  1  0  0\n",
       "4  0  1  0  0"
      ]
     },
     "execution_count": 51,
     "metadata": {},
     "output_type": "execute_result"
    }
   ],
   "source": [
    "df_education=pd.get_dummies(df[\"Education\"])\n",
    "df_education.head()"
   ]
  },
  {
   "cell_type": "markdown",
   "id": "0fafae7b",
   "metadata": {},
   "source": [
    "Eliminamos la primera columna porque es redudante. No se necesita. Está directamente correlacionada con las anteriores. Podríamos haber eliminado cualquiera, pero al estar contenidos los desconocidos en la 0, mejor nos quedamos con las 3 que sí conocemos"
   ]
  },
  {
   "cell_type": "code",
   "execution_count": 52,
   "id": "a2470d2b",
   "metadata": {},
   "outputs": [
    {
     "data": {
      "text/html": [
       "<div>\n",
       "<style scoped>\n",
       "    .dataframe tbody tr th:only-of-type {\n",
       "        vertical-align: middle;\n",
       "    }\n",
       "\n",
       "    .dataframe tbody tr th {\n",
       "        vertical-align: top;\n",
       "    }\n",
       "\n",
       "    .dataframe thead th {\n",
       "        text-align: right;\n",
       "    }\n",
       "</style>\n",
       "<table border=\"1\" class=\"dataframe\">\n",
       "  <thead>\n",
       "    <tr style=\"text-align: right;\">\n",
       "      <th></th>\n",
       "      <th>high_school</th>\n",
       "      <th>university</th>\n",
       "      <th>graduate_school</th>\n",
       "    </tr>\n",
       "  </thead>\n",
       "  <tbody>\n",
       "    <tr>\n",
       "      <th>0</th>\n",
       "      <td>0</td>\n",
       "      <td>1</td>\n",
       "      <td>0</td>\n",
       "    </tr>\n",
       "    <tr>\n",
       "      <th>1</th>\n",
       "      <td>1</td>\n",
       "      <td>0</td>\n",
       "      <td>0</td>\n",
       "    </tr>\n",
       "    <tr>\n",
       "      <th>2</th>\n",
       "      <td>1</td>\n",
       "      <td>0</td>\n",
       "      <td>0</td>\n",
       "    </tr>\n",
       "    <tr>\n",
       "      <th>3</th>\n",
       "      <td>1</td>\n",
       "      <td>0</td>\n",
       "      <td>0</td>\n",
       "    </tr>\n",
       "    <tr>\n",
       "      <th>4</th>\n",
       "      <td>1</td>\n",
       "      <td>0</td>\n",
       "      <td>0</td>\n",
       "    </tr>\n",
       "  </tbody>\n",
       "</table>\n",
       "</div>"
      ],
      "text/plain": [
       "   high_school  university  graduate_school\n",
       "0            0           1                0\n",
       "1            1           0                0\n",
       "2            1           0                0\n",
       "3            1           0                0\n",
       "4            1           0                0"
      ]
     },
     "execution_count": 52,
     "metadata": {},
     "output_type": "execute_result"
    }
   ],
   "source": [
    "df_education.drop(columns=[0],inplace=True)\n",
    "df_education.columns=[\"high_school\",\"university\",\"graduate_school\"]\n",
    "df_education.head()"
   ]
  },
  {
   "cell_type": "markdown",
   "id": "8be6e196",
   "metadata": {},
   "source": [
    "Ahora repetimos con Occupation:\n",
    "\n",
    "-  0\tunemployed / unskilled\n",
    "-  1\tskilled employee / official\n",
    "-  2\tmanagement / self-employed / highly qualified employee / officer\n",
    "\n",
    "\n",
    "Como en el caso anterior, vamos a mantener las columnas 1 y 2:"
   ]
  },
  {
   "cell_type": "code",
   "execution_count": 53,
   "id": "bc3e95ea",
   "metadata": {},
   "outputs": [
    {
     "data": {
      "text/html": [
       "<div>\n",
       "<style scoped>\n",
       "    .dataframe tbody tr th:only-of-type {\n",
       "        vertical-align: middle;\n",
       "    }\n",
       "\n",
       "    .dataframe tbody tr th {\n",
       "        vertical-align: top;\n",
       "    }\n",
       "\n",
       "    .dataframe thead th {\n",
       "        text-align: right;\n",
       "    }\n",
       "</style>\n",
       "<table border=\"1\" class=\"dataframe\">\n",
       "  <thead>\n",
       "    <tr style=\"text-align: right;\">\n",
       "      <th></th>\n",
       "      <th>skilled_employee</th>\n",
       "      <th>management</th>\n",
       "    </tr>\n",
       "  </thead>\n",
       "  <tbody>\n",
       "    <tr>\n",
       "      <th>0</th>\n",
       "      <td>1</td>\n",
       "      <td>0</td>\n",
       "    </tr>\n",
       "    <tr>\n",
       "      <th>1</th>\n",
       "      <td>1</td>\n",
       "      <td>0</td>\n",
       "    </tr>\n",
       "    <tr>\n",
       "      <th>2</th>\n",
       "      <td>0</td>\n",
       "      <td>0</td>\n",
       "    </tr>\n",
       "    <tr>\n",
       "      <th>3</th>\n",
       "      <td>1</td>\n",
       "      <td>0</td>\n",
       "    </tr>\n",
       "    <tr>\n",
       "      <th>4</th>\n",
       "      <td>1</td>\n",
       "      <td>0</td>\n",
       "    </tr>\n",
       "  </tbody>\n",
       "</table>\n",
       "</div>"
      ],
      "text/plain": [
       "   skilled_employee  management\n",
       "0                 1           0\n",
       "1                 1           0\n",
       "2                 0           0\n",
       "3                 1           0\n",
       "4                 1           0"
      ]
     },
     "execution_count": 53,
     "metadata": {},
     "output_type": "execute_result"
    }
   ],
   "source": [
    "df_occupation=pd.get_dummies(df[\"Occupation\"])\n",
    "df_occupation.drop(columns=[0],inplace=True)\n",
    "df_occupation.columns=[\"skilled_employee\",\"management\"]\n",
    "df_occupation.head()\n"
   ]
  },
  {
   "cell_type": "markdown",
   "id": "95c9478c",
   "metadata": {},
   "source": [
    "Finalmente tomamos la variable Settlement size:\n",
    "\n",
    "- 0\tsmall city\n",
    "- 1\tmid-sized city\n",
    "- 2\tbig city\n",
    "\n",
    "\n",
    "En este caso eliminaremos la big city"
   ]
  },
  {
   "cell_type": "code",
   "execution_count": 54,
   "id": "ff4a0ea0",
   "metadata": {},
   "outputs": [
    {
     "data": {
      "text/html": [
       "<div>\n",
       "<style scoped>\n",
       "    .dataframe tbody tr th:only-of-type {\n",
       "        vertical-align: middle;\n",
       "    }\n",
       "\n",
       "    .dataframe tbody tr th {\n",
       "        vertical-align: top;\n",
       "    }\n",
       "\n",
       "    .dataframe thead th {\n",
       "        text-align: right;\n",
       "    }\n",
       "</style>\n",
       "<table border=\"1\" class=\"dataframe\">\n",
       "  <thead>\n",
       "    <tr style=\"text-align: right;\">\n",
       "      <th></th>\n",
       "      <th>small_city</th>\n",
       "      <th>mid_sized_city</th>\n",
       "    </tr>\n",
       "  </thead>\n",
       "  <tbody>\n",
       "    <tr>\n",
       "      <th>0</th>\n",
       "      <td>0</td>\n",
       "      <td>0</td>\n",
       "    </tr>\n",
       "    <tr>\n",
       "      <th>1</th>\n",
       "      <td>0</td>\n",
       "      <td>0</td>\n",
       "    </tr>\n",
       "    <tr>\n",
       "      <th>2</th>\n",
       "      <td>1</td>\n",
       "      <td>0</td>\n",
       "    </tr>\n",
       "    <tr>\n",
       "      <th>3</th>\n",
       "      <td>0</td>\n",
       "      <td>1</td>\n",
       "    </tr>\n",
       "    <tr>\n",
       "      <th>4</th>\n",
       "      <td>0</td>\n",
       "      <td>1</td>\n",
       "    </tr>\n",
       "  </tbody>\n",
       "</table>\n",
       "</div>"
      ],
      "text/plain": [
       "   small_city  mid_sized_city\n",
       "0           0               0\n",
       "1           0               0\n",
       "2           1               0\n",
       "3           0               1\n",
       "4           0               1"
      ]
     },
     "execution_count": 54,
     "metadata": {},
     "output_type": "execute_result"
    }
   ],
   "source": [
    "df_settlement=pd.get_dummies(df[\"Settlement size\"])\n",
    "df_settlement.drop(columns=[2],inplace=True)\n",
    "df_settlement.columns=[\"small_city\",\"mid_sized_city\"]\n",
    "df_settlement.head()"
   ]
  },
  {
   "cell_type": "markdown",
   "id": "2b51f84c",
   "metadata": {},
   "source": [
    "Tras tratar las categóricas vamos a escalar las numéricas. En este caso solo hay dos numéricas: age e income. El motivo de escalar las variables numéricas es que, al utilizar kmeans que se basa en distancias, es importante que todas las varibles estén dentro del mismo rango de valores- Si una variable como income se mueve en el rango de decenas de miles y la edad solamente en miles, a la hora de considerar distancias entre puntos, esta diferencia de escala va a tener efectos poco deseables.\n",
    "\n",
    "Para escalar los datos vamos a convertir estas variables en normales de media 0 y varianza 1.Esto se consigue sin más que restar la media a cada dato y dividir por la desviación típica. Sin embargo, sklearn lo hace ya directamente por nostros con Standard Scaler:"
   ]
  },
  {
   "cell_type": "code",
   "execution_count": 55,
   "id": "afac7a62",
   "metadata": {},
   "outputs": [],
   "source": [
    "from sklearn.preprocessing import StandardScaler"
   ]
  },
  {
   "cell_type": "code",
   "execution_count": 56,
   "id": "5e814dfc",
   "metadata": {},
   "outputs": [],
   "source": [
    "escalador=StandardScaler()"
   ]
  },
  {
   "cell_type": "code",
   "execution_count": 57,
   "id": "4396950d",
   "metadata": {},
   "outputs": [
    {
     "data": {
      "text/plain": [
       "StandardScaler()"
      ]
     },
     "execution_count": 57,
     "metadata": {},
     "output_type": "execute_result"
    }
   ],
   "source": [
    "escalador.fit(df[numericas])"
   ]
  },
  {
   "cell_type": "code",
   "execution_count": 58,
   "id": "b265b95b",
   "metadata": {},
   "outputs": [
    {
     "data": {
      "text/plain": [
       "array([[ 2.65361447,  0.09752361],\n",
       "       [-1.18713209,  0.78265438],\n",
       "       [ 1.11731585, -0.83320224],\n",
       "       ...,\n",
       "       [-0.41898277, -0.90695688],\n",
       "       [-1.01643224, -0.60332923],\n",
       "       [-0.93108232, -1.3789866 ]])"
      ]
     },
     "execution_count": 58,
     "metadata": {},
     "output_type": "execute_result"
    }
   ],
   "source": [
    "array_num=escalador.transform(df[numericas])\n",
    "array_num"
   ]
  },
  {
   "cell_type": "markdown",
   "id": "e7949bdc",
   "metadata": {},
   "source": [
    "De nuevo sklearn dentro de su filosofía de encadenar procesos en pipelines nos devuelve un array y no un dataframe. En este caso, vamos a convertirlo en dataframe ccon los nombres de las columnas correspondientes: ['Age_esc', 'Income_esc']"
   ]
  },
  {
   "cell_type": "code",
   "execution_count": 59,
   "id": "73853183",
   "metadata": {},
   "outputs": [
    {
     "data": {
      "text/html": [
       "<div>\n",
       "<style scoped>\n",
       "    .dataframe tbody tr th:only-of-type {\n",
       "        vertical-align: middle;\n",
       "    }\n",
       "\n",
       "    .dataframe tbody tr th {\n",
       "        vertical-align: top;\n",
       "    }\n",
       "\n",
       "    .dataframe thead th {\n",
       "        text-align: right;\n",
       "    }\n",
       "</style>\n",
       "<table border=\"1\" class=\"dataframe\">\n",
       "  <thead>\n",
       "    <tr style=\"text-align: right;\">\n",
       "      <th></th>\n",
       "      <th>Age_esc</th>\n",
       "      <th>Income_esc</th>\n",
       "    </tr>\n",
       "  </thead>\n",
       "  <tbody>\n",
       "    <tr>\n",
       "      <th>0</th>\n",
       "      <td>2.653614</td>\n",
       "      <td>0.097524</td>\n",
       "    </tr>\n",
       "    <tr>\n",
       "      <th>1</th>\n",
       "      <td>-1.187132</td>\n",
       "      <td>0.782654</td>\n",
       "    </tr>\n",
       "    <tr>\n",
       "      <th>2</th>\n",
       "      <td>1.117316</td>\n",
       "      <td>-0.833202</td>\n",
       "    </tr>\n",
       "    <tr>\n",
       "      <th>3</th>\n",
       "      <td>0.775916</td>\n",
       "      <td>1.328386</td>\n",
       "    </tr>\n",
       "    <tr>\n",
       "      <th>4</th>\n",
       "      <td>1.458716</td>\n",
       "      <td>0.736932</td>\n",
       "    </tr>\n",
       "  </tbody>\n",
       "</table>\n",
       "</div>"
      ],
      "text/plain": [
       "    Age_esc  Income_esc\n",
       "0  2.653614    0.097524\n",
       "1 -1.187132    0.782654\n",
       "2  1.117316   -0.833202\n",
       "3  0.775916    1.328386\n",
       "4  1.458716    0.736932"
      ]
     },
     "execution_count": 59,
     "metadata": {},
     "output_type": "execute_result"
    }
   ],
   "source": [
    "df_num=pd.DataFrame(array_num,columns=['Age_esc', 'Income_esc'])\n",
    "df_num.head()"
   ]
  },
  {
   "cell_type": "markdown",
   "id": "a74a0d2d",
   "metadata": {},
   "source": [
    "Veamos ahora si, en efecto, se ajustan a una normal 0,1 como esperábamos:"
   ]
  },
  {
   "cell_type": "code",
   "execution_count": 60,
   "id": "5d814470",
   "metadata": {},
   "outputs": [
    {
     "data": {
      "text/html": [
       "<div>\n",
       "<style scoped>\n",
       "    .dataframe tbody tr th:only-of-type {\n",
       "        vertical-align: middle;\n",
       "    }\n",
       "\n",
       "    .dataframe tbody tr th {\n",
       "        vertical-align: top;\n",
       "    }\n",
       "\n",
       "    .dataframe thead th {\n",
       "        text-align: right;\n",
       "    }\n",
       "</style>\n",
       "<table border=\"1\" class=\"dataframe\">\n",
       "  <thead>\n",
       "    <tr style=\"text-align: right;\">\n",
       "      <th></th>\n",
       "      <th>Age_esc</th>\n",
       "      <th>Income_esc</th>\n",
       "    </tr>\n",
       "  </thead>\n",
       "  <tbody>\n",
       "    <tr>\n",
       "      <th>count</th>\n",
       "      <td>2.000000e+03</td>\n",
       "      <td>2.000000e+03</td>\n",
       "    </tr>\n",
       "    <tr>\n",
       "      <th>mean</th>\n",
       "      <td>1.180722e-16</td>\n",
       "      <td>6.605827e-17</td>\n",
       "    </tr>\n",
       "    <tr>\n",
       "      <th>std</th>\n",
       "      <td>1.000250e+00</td>\n",
       "      <td>1.000250e+00</td>\n",
       "    </tr>\n",
       "    <tr>\n",
       "      <th>min</th>\n",
       "      <td>-1.528532e+00</td>\n",
       "      <td>-2.234225e+00</td>\n",
       "    </tr>\n",
       "    <tr>\n",
       "      <th>25%</th>\n",
       "      <td>-7.603825e-01</td>\n",
       "      <td>-6.113281e-01</td>\n",
       "    </tr>\n",
       "    <tr>\n",
       "      <th>50%</th>\n",
       "      <td>-2.482829e-01</td>\n",
       "      <td>-1.418903e-01</td>\n",
       "    </tr>\n",
       "    <tr>\n",
       "      <th>75%</th>\n",
       "      <td>5.198664e-01</td>\n",
       "      <td>4.492952e-01</td>\n",
       "    </tr>\n",
       "    <tr>\n",
       "      <th>max</th>\n",
       "      <td>3.421764e+00</td>\n",
       "      <td>4.945225e+00</td>\n",
       "    </tr>\n",
       "  </tbody>\n",
       "</table>\n",
       "</div>"
      ],
      "text/plain": [
       "            Age_esc    Income_esc\n",
       "count  2.000000e+03  2.000000e+03\n",
       "mean   1.180722e-16  6.605827e-17\n",
       "std    1.000250e+00  1.000250e+00\n",
       "min   -1.528532e+00 -2.234225e+00\n",
       "25%   -7.603825e-01 -6.113281e-01\n",
       "50%   -2.482829e-01 -1.418903e-01\n",
       "75%    5.198664e-01  4.492952e-01\n",
       "max    3.421764e+00  4.945225e+00"
      ]
     },
     "execution_count": 60,
     "metadata": {},
     "output_type": "execute_result"
    }
   ],
   "source": [
    "df_num.describe()"
   ]
  },
  {
   "cell_type": "markdown",
   "id": "1c5be569",
   "metadata": {},
   "source": [
    "Veamos el gráfico escalado:"
   ]
  },
  {
   "cell_type": "code",
   "execution_count": 61,
   "id": "820416ac",
   "metadata": {},
   "outputs": [
    {
     "data": {
      "image/png": "[encoded data removed]",
      "text/plain": [
       "<Figure size 1440x720 with 2 Axes>"
      ]
     },
     "metadata": {},
     "output_type": "display_data"
    }
   ],
   "source": [
    "fig,axes=plt.subplots(nrows=1,ncols=2,figsize=(20,10))\n",
    "sns.boxplot(data=df_num[[\"Age_esc\"]],ax=axes[0],palette='Reds')\n",
    "sns.boxplot(data=df_num[[\"Income_esc\"]],ax=axes[1],palette='Blues');"
   ]
  },
  {
   "cell_type": "markdown",
   "id": "9e2d246c",
   "metadata": {},
   "source": [
    "Se aprecia cómo los valores están entre -2 y 5. Todos los valores son órdenes de magnitud similares.\n",
    "\n",
    "En resumen, tenemos:\n",
    "\n",
    "- El df original del que querremos recuperar el ID, el sexo y el estado civil;\n",
    "- Un df con las variables numéricas escaladas (df_num)\n",
    "- Tres dfs adicionales con el \"encoding\" de las categóricas: df_settlement,df_occupation y df_education\n",
    "\n",
    "Solo queda fusionar los distintos dfs en uno solo y entrenar nuestro algoritmo. Veamos cómo hacerlo:"
   ]
  },
  {
   "cell_type": "code",
   "execution_count": 62,
   "id": "1cf0f644",
   "metadata": {},
   "outputs": [],
   "source": [
    "### PASO 1: CREAMOS UN DF A PARTIR DEL ORIGINAL SOLO CON LA VARIABLES ID SEX Y MARITAL STATUS.\n",
    "\n",
    "df_parcial=df[[\"ID\",\"Sex\",\"Marital status\"]]"
   ]
  },
  {
   "cell_type": "code",
   "execution_count": 63,
   "id": "cc0931f4",
   "metadata": {},
   "outputs": [],
   "source": [
    "### PASO 2: CREAMOS UNA LISTA CON LOS DFS A FUSIONAR:\n",
    "\n",
    "lista_dfs=[df_parcial, df_num, df_settlement,df_occupation,df_education ]"
   ]
  },
  {
   "cell_type": "code",
   "execution_count": 64,
   "id": "e4b9d491",
   "metadata": {},
   "outputs": [],
   "source": [
    "###PASO 3: CREAMOS UN DF DE NOMBRE df_train CON pd.concat y axis =1, ya que vamos a añadir por columnas"
   ]
  },
  {
   "cell_type": "code",
   "execution_count": 65,
   "id": "25e7302d",
   "metadata": {},
   "outputs": [
    {
     "data": {
      "text/html": [
       "<div>\n",
       "<style scoped>\n",
       "    .dataframe tbody tr th:only-of-type {\n",
       "        vertical-align: middle;\n",
       "    }\n",
       "\n",
       "    .dataframe tbody tr th {\n",
       "        vertical-align: top;\n",
       "    }\n",
       "\n",
       "    .dataframe thead th {\n",
       "        text-align: right;\n",
       "    }\n",
       "</style>\n",
       "<table border=\"1\" class=\"dataframe\">\n",
       "  <thead>\n",
       "    <tr style=\"text-align: right;\">\n",
       "      <th></th>\n",
       "      <th>ID</th>\n",
       "      <th>Sex</th>\n",
       "      <th>Marital status</th>\n",
       "      <th>Age_esc</th>\n",
       "      <th>Income_esc</th>\n",
       "      <th>small_city</th>\n",
       "      <th>mid_sized_city</th>\n",
       "      <th>skilled_employee</th>\n",
       "      <th>management</th>\n",
       "      <th>high_school</th>\n",
       "      <th>university</th>\n",
       "      <th>graduate_school</th>\n",
       "    </tr>\n",
       "  </thead>\n",
       "  <tbody>\n",
       "    <tr>\n",
       "      <th>0</th>\n",
       "      <td>100000001</td>\n",
       "      <td>0</td>\n",
       "      <td>0</td>\n",
       "      <td>2.653614</td>\n",
       "      <td>0.097524</td>\n",
       "      <td>0</td>\n",
       "      <td>0</td>\n",
       "      <td>1</td>\n",
       "      <td>0</td>\n",
       "      <td>0</td>\n",
       "      <td>1</td>\n",
       "      <td>0</td>\n",
       "    </tr>\n",
       "    <tr>\n",
       "      <th>1</th>\n",
       "      <td>100000002</td>\n",
       "      <td>1</td>\n",
       "      <td>1</td>\n",
       "      <td>-1.187132</td>\n",
       "      <td>0.782654</td>\n",
       "      <td>0</td>\n",
       "      <td>0</td>\n",
       "      <td>1</td>\n",
       "      <td>0</td>\n",
       "      <td>1</td>\n",
       "      <td>0</td>\n",
       "      <td>0</td>\n",
       "    </tr>\n",
       "    <tr>\n",
       "      <th>2</th>\n",
       "      <td>100000003</td>\n",
       "      <td>0</td>\n",
       "      <td>0</td>\n",
       "      <td>1.117316</td>\n",
       "      <td>-0.833202</td>\n",
       "      <td>1</td>\n",
       "      <td>0</td>\n",
       "      <td>0</td>\n",
       "      <td>0</td>\n",
       "      <td>1</td>\n",
       "      <td>0</td>\n",
       "      <td>0</td>\n",
       "    </tr>\n",
       "    <tr>\n",
       "      <th>3</th>\n",
       "      <td>100000004</td>\n",
       "      <td>0</td>\n",
       "      <td>0</td>\n",
       "      <td>0.775916</td>\n",
       "      <td>1.328386</td>\n",
       "      <td>0</td>\n",
       "      <td>1</td>\n",
       "      <td>1</td>\n",
       "      <td>0</td>\n",
       "      <td>1</td>\n",
       "      <td>0</td>\n",
       "      <td>0</td>\n",
       "    </tr>\n",
       "    <tr>\n",
       "      <th>4</th>\n",
       "      <td>100000005</td>\n",
       "      <td>0</td>\n",
       "      <td>0</td>\n",
       "      <td>1.458716</td>\n",
       "      <td>0.736932</td>\n",
       "      <td>0</td>\n",
       "      <td>1</td>\n",
       "      <td>1</td>\n",
       "      <td>0</td>\n",
       "      <td>1</td>\n",
       "      <td>0</td>\n",
       "      <td>0</td>\n",
       "    </tr>\n",
       "  </tbody>\n",
       "</table>\n",
       "</div>"
      ],
      "text/plain": [
       "          ID  Sex  Marital status   Age_esc  Income_esc  small_city  \\\n",
       "0  100000001    0               0  2.653614    0.097524           0   \n",
       "1  100000002    1               1 -1.187132    0.782654           0   \n",
       "2  100000003    0               0  1.117316   -0.833202           1   \n",
       "3  100000004    0               0  0.775916    1.328386           0   \n",
       "4  100000005    0               0  1.458716    0.736932           0   \n",
       "\n",
       "   mid_sized_city  skilled_employee  management  high_school  university  \\\n",
       "0               0                 1           0            0           1   \n",
       "1               0                 1           0            1           0   \n",
       "2               0                 0           0            1           0   \n",
       "3               1                 1           0            1           0   \n",
       "4               1                 1           0            1           0   \n",
       "\n",
       "   graduate_school  \n",
       "0                0  \n",
       "1                0  \n",
       "2                0  \n",
       "3                0  \n",
       "4                0  "
      ]
     },
     "execution_count": 65,
     "metadata": {},
     "output_type": "execute_result"
    }
   ],
   "source": [
    "df_train=pd.concat(lista_dfs,axis=1)\n",
    "df_train.head()"
   ]
  },
  {
   "cell_type": "markdown",
   "id": "03200bb8",
   "metadata": {},
   "source": [
    "De cara al entrenamiento, tenemos que quitar el ID. No se pueden utilizar indicadores para los algoritmos de machine learning. No obstante, no queremos perderlo, así que lo convertimos en índice:"
   ]
  },
  {
   "cell_type": "code",
   "execution_count": 66,
   "id": "70849811",
   "metadata": {},
   "outputs": [
    {
     "data": {
      "text/html": [
       "<div>\n",
       "<style scoped>\n",
       "    .dataframe tbody tr th:only-of-type {\n",
       "        vertical-align: middle;\n",
       "    }\n",
       "\n",
       "    .dataframe tbody tr th {\n",
       "        vertical-align: top;\n",
       "    }\n",
       "\n",
       "    .dataframe thead th {\n",
       "        text-align: right;\n",
       "    }\n",
       "</style>\n",
       "<table border=\"1\" class=\"dataframe\">\n",
       "  <thead>\n",
       "    <tr style=\"text-align: right;\">\n",
       "      <th></th>\n",
       "      <th>Sex</th>\n",
       "      <th>Marital status</th>\n",
       "      <th>Age_esc</th>\n",
       "      <th>Income_esc</th>\n",
       "      <th>small_city</th>\n",
       "      <th>mid_sized_city</th>\n",
       "      <th>skilled_employee</th>\n",
       "      <th>management</th>\n",
       "      <th>high_school</th>\n",
       "      <th>university</th>\n",
       "      <th>graduate_school</th>\n",
       "    </tr>\n",
       "    <tr>\n",
       "      <th>ID</th>\n",
       "      <th></th>\n",
       "      <th></th>\n",
       "      <th></th>\n",
       "      <th></th>\n",
       "      <th></th>\n",
       "      <th></th>\n",
       "      <th></th>\n",
       "      <th></th>\n",
       "      <th></th>\n",
       "      <th></th>\n",
       "      <th></th>\n",
       "    </tr>\n",
       "  </thead>\n",
       "  <tbody>\n",
       "    <tr>\n",
       "      <th>100000001</th>\n",
       "      <td>0</td>\n",
       "      <td>0</td>\n",
       "      <td>2.653614</td>\n",
       "      <td>0.097524</td>\n",
       "      <td>0</td>\n",
       "      <td>0</td>\n",
       "      <td>1</td>\n",
       "      <td>0</td>\n",
       "      <td>0</td>\n",
       "      <td>1</td>\n",
       "      <td>0</td>\n",
       "    </tr>\n",
       "    <tr>\n",
       "      <th>100000002</th>\n",
       "      <td>1</td>\n",
       "      <td>1</td>\n",
       "      <td>-1.187132</td>\n",
       "      <td>0.782654</td>\n",
       "      <td>0</td>\n",
       "      <td>0</td>\n",
       "      <td>1</td>\n",
       "      <td>0</td>\n",
       "      <td>1</td>\n",
       "      <td>0</td>\n",
       "      <td>0</td>\n",
       "    </tr>\n",
       "    <tr>\n",
       "      <th>100000003</th>\n",
       "      <td>0</td>\n",
       "      <td>0</td>\n",
       "      <td>1.117316</td>\n",
       "      <td>-0.833202</td>\n",
       "      <td>1</td>\n",
       "      <td>0</td>\n",
       "      <td>0</td>\n",
       "      <td>0</td>\n",
       "      <td>1</td>\n",
       "      <td>0</td>\n",
       "      <td>0</td>\n",
       "    </tr>\n",
       "    <tr>\n",
       "      <th>100000004</th>\n",
       "      <td>0</td>\n",
       "      <td>0</td>\n",
       "      <td>0.775916</td>\n",
       "      <td>1.328386</td>\n",
       "      <td>0</td>\n",
       "      <td>1</td>\n",
       "      <td>1</td>\n",
       "      <td>0</td>\n",
       "      <td>1</td>\n",
       "      <td>0</td>\n",
       "      <td>0</td>\n",
       "    </tr>\n",
       "    <tr>\n",
       "      <th>100000005</th>\n",
       "      <td>0</td>\n",
       "      <td>0</td>\n",
       "      <td>1.458716</td>\n",
       "      <td>0.736932</td>\n",
       "      <td>0</td>\n",
       "      <td>1</td>\n",
       "      <td>1</td>\n",
       "      <td>0</td>\n",
       "      <td>1</td>\n",
       "      <td>0</td>\n",
       "      <td>0</td>\n",
       "    </tr>\n",
       "  </tbody>\n",
       "</table>\n",
       "</div>"
      ],
      "text/plain": [
       "           Sex  Marital status   Age_esc  Income_esc  small_city  \\\n",
       "ID                                                                 \n",
       "100000001    0               0  2.653614    0.097524           0   \n",
       "100000002    1               1 -1.187132    0.782654           0   \n",
       "100000003    0               0  1.117316   -0.833202           1   \n",
       "100000004    0               0  0.775916    1.328386           0   \n",
       "100000005    0               0  1.458716    0.736932           0   \n",
       "\n",
       "           mid_sized_city  skilled_employee  management  high_school  \\\n",
       "ID                                                                     \n",
       "100000001               0                 1           0            0   \n",
       "100000002               0                 1           0            1   \n",
       "100000003               0                 0           0            1   \n",
       "100000004               1                 1           0            1   \n",
       "100000005               1                 1           0            1   \n",
       "\n",
       "           university  graduate_school  \n",
       "ID                                      \n",
       "100000001           1                0  \n",
       "100000002           0                0  \n",
       "100000003           0                0  \n",
       "100000004           0                0  \n",
       "100000005           0                0  "
      ]
     },
     "execution_count": 66,
     "metadata": {},
     "output_type": "execute_result"
    }
   ],
   "source": [
    "\n",
    "df_train.index=df_train[\"ID\"]\n",
    "df_train.drop(columns=[\"ID\"],inplace=True)\n",
    "df_train.head()"
   ]
  },
  {
   "cell_type": "markdown",
   "id": "4522f515",
   "metadata": {},
   "source": [
    "Y ya estamos listos para entrenar."
   ]
  },
  {
   "cell_type": "markdown",
   "id": "de5ff155",
   "metadata": {},
   "source": [
    "## ENTRENAMIENTO ALGORITMO KMEANS.\n",
    "\n",
    "Para el algoritmo del KMEANS, se necesita especificar el número de clústeres con el que queremos quedarnos. Es lo que se conoce como clúster no jerárquico.\n",
    "\n",
    "En primer lugar, vamos a aprender a entrenar un kmeans con 4 clústeres. Después veremos cómo se puede intentar ver cuál es el mejor número posible de clústeres."
   ]
  },
  {
   "cell_type": "code",
   "execution_count": 67,
   "id": "e8dd8111",
   "metadata": {},
   "outputs": [],
   "source": [
    "### PASO 1: IMPORTAR LA CLASE KMEANS DE SKLEARN\n",
    "\n",
    "from sklearn.cluster import KMeans"
   ]
  },
  {
   "cell_type": "code",
   "execution_count": 68,
   "id": "6769d9e4",
   "metadata": {},
   "outputs": [],
   "source": [
    "### PASO 2: CREAMOS UNA INSTANCIA DE KMEANS FIJANDO EL NÚMERO DE CLÚSTERES Y EL PARÁMETRO RANDOM STATE\n",
    "\n",
    "modelo_cluster=KMeans(n_clusters=4,random_state=42)"
   ]
  },
  {
   "cell_type": "markdown",
   "id": "8415325c",
   "metadata": {},
   "source": [
    "Uno de los aspectos exigidos en machine learning es la replicabilidad de resultados, es decir, que si se repite la ejecución, se obtengan los mismos resultados. En muchos algoritmos como el kmeans, se inicializan ciertos parámetros aleatoriamente y el parámetro random_state trata precisamente de que en diferentes inicializaciones, estos parámetros no varíen."
   ]
  },
  {
   "cell_type": "code",
   "execution_count": 69,
   "id": "c4a8af21",
   "metadata": {},
   "outputs": [
    {
     "data": {
      "text/plain": [
       "KMeans(n_clusters=4, random_state=42)"
      ]
     },
     "execution_count": 69,
     "metadata": {},
     "output_type": "execute_result"
    }
   ],
   "source": [
    "### PASO 3: ENTRENAMOS EL MODELO CONTRA NUESTRO DATASET\n",
    "\n",
    "modelo_cluster.fit(df_train)"
   ]
  },
  {
   "attachments": {
    "image.png": {
     "image/png": "[encoded data removed]"
    }
   },
   "cell_type": "markdown",
   "id": "0c6cbff5",
   "metadata": {},
   "source": [
    "TRas entrenar el modelo podemos intentar ver distintas propiedades del algoritmo:\n",
    "\n",
    "- Centroides: son el centro de gravedad de cada uno de los 4 clústeres que se han formado. Los sucesivos clientes se identificarán con uno u otro clúster de acuerdo con el cdg que esté más cerca.\n",
    "\n",
    "- Inercia: Se entiende por inercia la suma de las distancias entre los puntos a los centroides. En la documentación de sklearn se indica la expresión:\n",
    "\n",
    "\n",
    "![image.png](attachment:image.png)\n",
    "\n",
    "En este caso, el mínimo indica que lo que se intenta es minimizar esas distancias. Este valor es importante porque es la base para el llamado método del codo que comentaremos seguidamente. De momento, veamos cómo extraer el clúster al que pertenece cada muestra, los centroides y la inercia"
   ]
  },
  {
   "cell_type": "code",
   "execution_count": 70,
   "id": "51433258",
   "metadata": {},
   "outputs": [
    {
     "data": {
      "text/plain": [
       "array([3, 0, 2, ..., 2, 2, 2], dtype=int32)"
      ]
     },
     "execution_count": 70,
     "metadata": {},
     "output_type": "execute_result"
    }
   ],
   "source": [
    "### PASO 4: Hacemos una prediccion:\n",
    "\n",
    "modelo_cluster.predict(df_train)"
   ]
  },
  {
   "cell_type": "markdown",
   "id": "bffad883",
   "metadata": {},
   "source": [
    "Vemos como nos devuelve un array de numpy. Lo podemos anadir directamente como columna:"
   ]
  },
  {
   "cell_type": "code",
   "execution_count": 71,
   "id": "bba322ce",
   "metadata": {},
   "outputs": [
    {
     "data": {
      "text/html": [
       "<div>\n",
       "<style scoped>\n",
       "    .dataframe tbody tr th:only-of-type {\n",
       "        vertical-align: middle;\n",
       "    }\n",
       "\n",
       "    .dataframe tbody tr th {\n",
       "        vertical-align: top;\n",
       "    }\n",
       "\n",
       "    .dataframe thead th {\n",
       "        text-align: right;\n",
       "    }\n",
       "</style>\n",
       "<table border=\"1\" class=\"dataframe\">\n",
       "  <thead>\n",
       "    <tr style=\"text-align: right;\">\n",
       "      <th></th>\n",
       "      <th>Sex</th>\n",
       "      <th>Marital status</th>\n",
       "      <th>Age_esc</th>\n",
       "      <th>Income_esc</th>\n",
       "      <th>small_city</th>\n",
       "      <th>mid_sized_city</th>\n",
       "      <th>skilled_employee</th>\n",
       "      <th>management</th>\n",
       "      <th>high_school</th>\n",
       "      <th>university</th>\n",
       "      <th>graduate_school</th>\n",
       "      <th>cluster</th>\n",
       "    </tr>\n",
       "    <tr>\n",
       "      <th>ID</th>\n",
       "      <th></th>\n",
       "      <th></th>\n",
       "      <th></th>\n",
       "      <th></th>\n",
       "      <th></th>\n",
       "      <th></th>\n",
       "      <th></th>\n",
       "      <th></th>\n",
       "      <th></th>\n",
       "      <th></th>\n",
       "      <th></th>\n",
       "      <th></th>\n",
       "    </tr>\n",
       "  </thead>\n",
       "  <tbody>\n",
       "    <tr>\n",
       "      <th>100000001</th>\n",
       "      <td>0</td>\n",
       "      <td>0</td>\n",
       "      <td>2.653614</td>\n",
       "      <td>0.097524</td>\n",
       "      <td>0</td>\n",
       "      <td>0</td>\n",
       "      <td>1</td>\n",
       "      <td>0</td>\n",
       "      <td>0</td>\n",
       "      <td>1</td>\n",
       "      <td>0</td>\n",
       "      <td>3</td>\n",
       "    </tr>\n",
       "    <tr>\n",
       "      <th>100000002</th>\n",
       "      <td>1</td>\n",
       "      <td>1</td>\n",
       "      <td>-1.187132</td>\n",
       "      <td>0.782654</td>\n",
       "      <td>0</td>\n",
       "      <td>0</td>\n",
       "      <td>1</td>\n",
       "      <td>0</td>\n",
       "      <td>1</td>\n",
       "      <td>0</td>\n",
       "      <td>0</td>\n",
       "      <td>0</td>\n",
       "    </tr>\n",
       "    <tr>\n",
       "      <th>100000003</th>\n",
       "      <td>0</td>\n",
       "      <td>0</td>\n",
       "      <td>1.117316</td>\n",
       "      <td>-0.833202</td>\n",
       "      <td>1</td>\n",
       "      <td>0</td>\n",
       "      <td>0</td>\n",
       "      <td>0</td>\n",
       "      <td>1</td>\n",
       "      <td>0</td>\n",
       "      <td>0</td>\n",
       "      <td>2</td>\n",
       "    </tr>\n",
       "    <tr>\n",
       "      <th>100000004</th>\n",
       "      <td>0</td>\n",
       "      <td>0</td>\n",
       "      <td>0.775916</td>\n",
       "      <td>1.328386</td>\n",
       "      <td>0</td>\n",
       "      <td>1</td>\n",
       "      <td>1</td>\n",
       "      <td>0</td>\n",
       "      <td>1</td>\n",
       "      <td>0</td>\n",
       "      <td>0</td>\n",
       "      <td>1</td>\n",
       "    </tr>\n",
       "    <tr>\n",
       "      <th>100000005</th>\n",
       "      <td>0</td>\n",
       "      <td>0</td>\n",
       "      <td>1.458716</td>\n",
       "      <td>0.736932</td>\n",
       "      <td>0</td>\n",
       "      <td>1</td>\n",
       "      <td>1</td>\n",
       "      <td>0</td>\n",
       "      <td>1</td>\n",
       "      <td>0</td>\n",
       "      <td>0</td>\n",
       "      <td>3</td>\n",
       "    </tr>\n",
       "  </tbody>\n",
       "</table>\n",
       "</div>"
      ],
      "text/plain": [
       "           Sex  Marital status   Age_esc  Income_esc  small_city  \\\n",
       "ID                                                                 \n",
       "100000001    0               0  2.653614    0.097524           0   \n",
       "100000002    1               1 -1.187132    0.782654           0   \n",
       "100000003    0               0  1.117316   -0.833202           1   \n",
       "100000004    0               0  0.775916    1.328386           0   \n",
       "100000005    0               0  1.458716    0.736932           0   \n",
       "\n",
       "           mid_sized_city  skilled_employee  management  high_school  \\\n",
       "ID                                                                     \n",
       "100000001               0                 1           0            0   \n",
       "100000002               0                 1           0            1   \n",
       "100000003               0                 0           0            1   \n",
       "100000004               1                 1           0            1   \n",
       "100000005               1                 1           0            1   \n",
       "\n",
       "           university  graduate_school  cluster  \n",
       "ID                                               \n",
       "100000001           1                0        3  \n",
       "100000002           0                0        0  \n",
       "100000003           0                0        2  \n",
       "100000004           0                0        1  \n",
       "100000005           0                0        3  "
      ]
     },
     "execution_count": 71,
     "metadata": {},
     "output_type": "execute_result"
    }
   ],
   "source": [
    "df_train['cluster']=modelo_cluster.predict(df_train)\n",
    "df_train.head()"
   ]
  },
  {
   "cell_type": "markdown",
   "id": "8a69c7ed",
   "metadata": {},
   "source": [
    "Hechas las predicciones podemos consultar los centroides:"
   ]
  },
  {
   "cell_type": "code",
   "execution_count": 72,
   "id": "7d3e61b8",
   "metadata": {},
   "outputs": [
    {
     "data": {
      "text/plain": [
       "array([[ 4.86581097e-01,  5.63593932e-01, -5.06623303e-01,\n",
       "        -1.05956749e-01,  3.92065344e-01,  3.44224037e-01,\n",
       "         9.56826138e-01,  1.51691949e-02,  8.06301050e-01,\n",
       "         4.66744457e-03,  5.83430572e-03],\n",
       "       [ 1.85714286e-01,  3.35714286e-01,  1.21769955e-01,\n",
       "         1.58359718e+00,  6.78571429e-02,  4.14285714e-01,\n",
       "         2.64285714e-01,  7.00000000e-01,  6.92857143e-01,\n",
       "         1.32142857e-01,  2.14285714e-02],\n",
       "       [ 5.86826347e-01,  4.91017964e-01, -3.70600782e-01,\n",
       "        -9.73491449e-01,  9.84031936e-01,  3.99201597e-03,\n",
       "         2.22044605e-16,  9.98003992e-03,  7.90419162e-01,\n",
       "         3.59281437e-02,  6.93889390e-18],\n",
       "       [ 4.17127072e-01,  4.69613260e-01,  1.61809827e+00,\n",
       "         3.73251215e-01,  3.89502762e-01,  3.61878453e-01,\n",
       "         6.04972376e-01,  1.10497238e-01,  2.90055249e-01,\n",
       "         6.40883978e-01,  6.90607735e-02]])"
      ]
     },
     "execution_count": 72,
     "metadata": {},
     "output_type": "execute_result"
    }
   ],
   "source": [
    "modelo_cluster.cluster_centers_"
   ]
  },
  {
   "cell_type": "markdown",
   "id": "6751cce9",
   "metadata": {},
   "source": [
    "Cada uno de estos arrays es el centroide de cada uno de los clusteres. Podemos crear un dataframe con ellos para guardarlos:"
   ]
  },
  {
   "cell_type": "code",
   "execution_count": 74,
   "id": "eccecad7",
   "metadata": {},
   "outputs": [
    {
     "data": {
      "text/html": [
       "<div>\n",
       "<style scoped>\n",
       "    .dataframe tbody tr th:only-of-type {\n",
       "        vertical-align: middle;\n",
       "    }\n",
       "\n",
       "    .dataframe tbody tr th {\n",
       "        vertical-align: top;\n",
       "    }\n",
       "\n",
       "    .dataframe thead th {\n",
       "        text-align: right;\n",
       "    }\n",
       "</style>\n",
       "<table border=\"1\" class=\"dataframe\">\n",
       "  <thead>\n",
       "    <tr style=\"text-align: right;\">\n",
       "      <th></th>\n",
       "      <th>Sex</th>\n",
       "      <th>Marital status</th>\n",
       "      <th>Age_esc</th>\n",
       "      <th>Income_esc</th>\n",
       "      <th>small_city</th>\n",
       "      <th>mid_sized_city</th>\n",
       "      <th>skilled_employee</th>\n",
       "      <th>management</th>\n",
       "      <th>high_school</th>\n",
       "      <th>university</th>\n",
       "      <th>graduate_school</th>\n",
       "    </tr>\n",
       "  </thead>\n",
       "  <tbody>\n",
       "    <tr>\n",
       "      <th>cluster 0</th>\n",
       "      <td>0.486581</td>\n",
       "      <td>0.563594</td>\n",
       "      <td>-0.506623</td>\n",
       "      <td>-0.105957</td>\n",
       "      <td>0.392065</td>\n",
       "      <td>0.344224</td>\n",
       "      <td>9.568261e-01</td>\n",
       "      <td>0.015169</td>\n",
       "      <td>0.806301</td>\n",
       "      <td>0.004667</td>\n",
       "      <td>5.834306e-03</td>\n",
       "    </tr>\n",
       "    <tr>\n",
       "      <th>cluster 1</th>\n",
       "      <td>0.185714</td>\n",
       "      <td>0.335714</td>\n",
       "      <td>0.121770</td>\n",
       "      <td>1.583597</td>\n",
       "      <td>0.067857</td>\n",
       "      <td>0.414286</td>\n",
       "      <td>2.642857e-01</td>\n",
       "      <td>0.700000</td>\n",
       "      <td>0.692857</td>\n",
       "      <td>0.132143</td>\n",
       "      <td>2.142857e-02</td>\n",
       "    </tr>\n",
       "    <tr>\n",
       "      <th>cluster 2</th>\n",
       "      <td>0.586826</td>\n",
       "      <td>0.491018</td>\n",
       "      <td>-0.370601</td>\n",
       "      <td>-0.973491</td>\n",
       "      <td>0.984032</td>\n",
       "      <td>0.003992</td>\n",
       "      <td>2.220446e-16</td>\n",
       "      <td>0.009980</td>\n",
       "      <td>0.790419</td>\n",
       "      <td>0.035928</td>\n",
       "      <td>6.938894e-18</td>\n",
       "    </tr>\n",
       "    <tr>\n",
       "      <th>cluster 3</th>\n",
       "      <td>0.417127</td>\n",
       "      <td>0.469613</td>\n",
       "      <td>1.618098</td>\n",
       "      <td>0.373251</td>\n",
       "      <td>0.389503</td>\n",
       "      <td>0.361878</td>\n",
       "      <td>6.049724e-01</td>\n",
       "      <td>0.110497</td>\n",
       "      <td>0.290055</td>\n",
       "      <td>0.640884</td>\n",
       "      <td>6.906077e-02</td>\n",
       "    </tr>\n",
       "  </tbody>\n",
       "</table>\n",
       "</div>"
      ],
      "text/plain": [
       "                Sex  Marital status   Age_esc  Income_esc  small_city  \\\n",
       "cluster 0  0.486581        0.563594 -0.506623   -0.105957    0.392065   \n",
       "cluster 1  0.185714        0.335714  0.121770    1.583597    0.067857   \n",
       "cluster 2  0.586826        0.491018 -0.370601   -0.973491    0.984032   \n",
       "cluster 3  0.417127        0.469613  1.618098    0.373251    0.389503   \n",
       "\n",
       "           mid_sized_city  skilled_employee  management  high_school  \\\n",
       "cluster 0        0.344224      9.568261e-01    0.015169     0.806301   \n",
       "cluster 1        0.414286      2.642857e-01    0.700000     0.692857   \n",
       "cluster 2        0.003992      2.220446e-16    0.009980     0.790419   \n",
       "cluster 3        0.361878      6.049724e-01    0.110497     0.290055   \n",
       "\n",
       "           university  graduate_school  \n",
       "cluster 0    0.004667     5.834306e-03  \n",
       "cluster 1    0.132143     2.142857e-02  \n",
       "cluster 2    0.035928     6.938894e-18  \n",
       "cluster 3    0.640884     6.906077e-02  "
      ]
     },
     "execution_count": 74,
     "metadata": {},
     "output_type": "execute_result"
    }
   ],
   "source": [
    "df_centroides=pd.DataFrame(modelo_cluster.cluster_centers_,columns=[x for x in df_train.columns if x !='cluster'],index=['cluster %s' %x for x in range(0,4)])\n",
    "df_centroides.head()"
   ]
  },
  {
   "cell_type": "markdown",
   "id": "5a26b46c",
   "metadata": {},
   "source": [
    "Se ve como las coordenadas del centroide no se corresponden en las categoricas con los valores de 0 o 1 esperados. Este es uno de los problemas que nos vamos a encontrar al utilizar kmeans: los centroides no son puntos del cluster y no tienen por que tomar los valores de las categoricas esperados, sino cualquier valor entre 0 y 1. \n",
    "\n",
    "Existen variaciones sobre el kmeans como es el kmedians que en lugar de tomar el centro de gravedad y la media se basa en la mediana. Tiene la ventaja de que los centroides si son puntos del cluster y, sobre todo, es mas robusto frente a outliers.\n",
    "\n",
    "Veamos la inercia:"
   ]
  },
  {
   "cell_type": "code",
   "execution_count": 75,
   "id": "f2ae0674",
   "metadata": {},
   "outputs": [
    {
     "data": {
      "text/plain": [
       "3950.023063617401"
      ]
     },
     "execution_count": 75,
     "metadata": {},
     "output_type": "execute_result"
    }
   ],
   "source": [
    "modelo_cluster.inertia_"
   ]
  },
  {
   "cell_type": "markdown",
   "id": "587e2855",
   "metadata": {},
   "source": [
    "Este es un valor que dice poco. La inercia va a ir disminuyendo a medida que se aumente el numero de clusters. Esto es facil de entender, pues en el limite, es decir, con tantos clusteres como muestras, la inercia final sera nula, ya que cada punto coincidira con su propio centroide. Esto, naturalmente, no es operativo y se requiere definir algun metodo de cara a limitar ese descenso de la inercia. \n",
    "\n"
   ]
  },
  {
   "cell_type": "markdown",
   "id": "4dca3663",
   "metadata": {},
   "source": [
    "## METODO DEL CODO: ELECCI'ON DEL NUMERO DE CLUSTERES\n",
    "\n",
    "El metodo del codo es el primer metodo y el mas sencillo y habitual de los que vamos a ver para determinar elnumero de clusteres.\n",
    "\n",
    "En realidad, no proporciona un numero como tal, sino que se grafica una curva de la inercia frente al numero de clusteres y se escoge el n'umero obsrevando cuando el aumento en un cluster no implica una bajada significativa de la inercia. Esto se ve como un codo en la curva y de ahi el nombre del metodo.\n",
    "\n",
    "\n",
    "La funcion siguiente permite pintar el metodo del codo:"
   ]
  },
  {
   "cell_type": "code",
   "execution_count": 79,
   "id": "0d69b8b9",
   "metadata": {},
   "outputs": [],
   "source": [
    "def elbow_plot(df2_k, columns_to_k, range_n_clusters=[2, 3, 4, 5, 6, 7, 8, 9, 10], fig_size=(15, 8)):\n",
    "    \"\"\"\n",
    "    A function to plot the elbow.inertia plot for clustering,\n",
    "    Args: a dataframe, list with columns of the independent variables to cluster, a list with the number of cluters to compare\n",
    "    and the figsize.\n",
    "    Returns. A plot of the elbow function\n",
    "    \"\"\"\n",
    "\n",
    "    sse = {}\n",
    "    plt.figure(figsize=fig_size)\n",
    "    for k in range_n_clusters:\n",
    "        kmeans = KMeans(n_clusters=k, max_iter=1000).fit(df2_k[columns_to_k])\n",
    "\n",
    "        # df2_kmeans[\"clusters\"] = kmeans.labels_\n",
    "\n",
    "        # print(df2_kmeans[\"clusters\"])\n",
    "\n",
    "        sse[k] = kmeans.inertia_  # Inertia: Sum of distances of samples to their closest cluster center\n",
    "\n",
    "    # plt.figure()\n",
    "\n",
    "    df_I = pd.DataFrame.from_dict(sse, orient='index', columns=[\"Inertia\"]).reset_index()\n",
    "    df_I.columns = [\"Number of clusters\", \"Inertia\"]\n",
    "\n",
    "    df_I.sort_values(by=\"Inertia\", ascending=False, inplace=True)\n",
    "\n",
    "    fig = px.line(df_I, y=\"Inertia\", x=\"Number of clusters\", title='Optimal number of clusters')\n",
    "    fig.show()\n"
   ]
  },
  {
   "cell_type": "code",
   "execution_count": 83,
   "id": "ad4d9b24",
   "metadata": {},
   "outputs": [
    {
     "data": {
      "application/vnd.plotly.v1+json": {
       "config": {
        "plotlyServerURL": "https://plot.ly"
       },
       "data": [
        {
         "hovertemplate": "Number of clusters=%{x}<br>Inertia=%{y}<extra></extra>",
         "legendgroup": "",
         "line": {
          "color": "#636efa",
          "dash": "solid"
         },
         "marker": {
          "symbol": "circle"
         },
         "mode": "lines",
         "name": "",
         "orientation": "v",
         "showlegend": false,
         "type": "scatter",
         "x": [
          2,
          3,
          4,
          5,
          6,
          7,
          8,
          9,
          10,
          11,
          12,
          13,
          14,
          15,
          16,
          17,
          18,
          19,
          20
         ],
         "xaxis": "x",
         "y": [
          5335.945039188136,
          4531.258789080317,
          3950.023063617401,
          3497.1359611268285,
          3206.055069835823,
          2958.691914359122,
          2769.3060195722483,
          2598.2299240744355,
          2406.1458262405467,
          2277.3046620223186,
          2179.3409264999054,
          2099.9449874208353,
          2005.6897416008605,
          1934.9476450404322,
          1879.9306177442945,
          1839.993787230064,
          1768.465930986824,
          1731.3953685700337,
          1670.7787500833026
         ],
         "yaxis": "y"
        }
       ],
       "layout": {
        "legend": {
         "tracegroupgap": 0
        },
        "template": {
         "data": {
          "bar": [
           {
            "error_x": {
             "color": "#2a3f5f"
            },
            "error_y": {
             "color": "#2a3f5f"
            },
            "marker": {
             "line": {
              "color": "#E5ECF6",
              "width": 0.5
             },
             "pattern": {
              "fillmode": "overlay",
              "size": 10,
              "solidity": 0.2
             }
            },
            "type": "bar"
           }
          ],
          "barpolar": [
           {
            "marker": {
             "line": {
              "color": "#E5ECF6",
              "width": 0.5
             },
             "pattern": {
              "fillmode": "overlay",
              "size": 10,
              "solidity": 0.2
             }
            },
            "type": "barpolar"
           }
          ],
          "carpet": [
           {
            "aaxis": {
             "endlinecolor": "#2a3f5f",
             "gridcolor": "white",
             "linecolor": "white",
             "minorgridcolor": "white",
             "startlinecolor": "#2a3f5f"
            },
            "baxis": {
             "endlinecolor": "#2a3f5f",
             "gridcolor": "white",
             "linecolor": "white",
             "minorgridcolor": "white",
             "startlinecolor": "#2a3f5f"
            },
            "type": "carpet"
           }
          ],
          "choropleth": [
           {
            "colorbar": {
             "outlinewidth": 0,
             "ticks": ""
            },
            "type": "choropleth"
           }
          ],
          "contour": [
           {
            "colorbar": {
             "outlinewidth": 0,
             "ticks": ""
            },
            "colorscale": [
             [
              0,
              "#0d0887"
             ],
             [
              0.1111111111111111,
              "#46039f"
             ],
             [
              0.2222222222222222,
              "#7201a8"
             ],
             [
              0.3333333333333333,
              "#9c179e"
             ],
             [
              0.4444444444444444,
              "#bd3786"
             ],
             [
              0.5555555555555556,
              "#d8576b"
             ],
             [
              0.6666666666666666,
              "#ed7953"
             ],
             [
              0.7777777777777778,
              "#fb9f3a"
             ],
             [
              0.8888888888888888,
              "#fdca26"
             ],
             [
              1,
              "#f0f921"
             ]
            ],
            "type": "contour"
           }
          ],
          "contourcarpet": [
           {
            "colorbar": {
             "outlinewidth": 0,
             "ticks": ""
            },
            "type": "contourcarpet"
           }
          ],
          "heatmap": [
           {
            "colorbar": {
             "outlinewidth": 0,
             "ticks": ""
            },
            "colorscale": [
             [
              0,
              "#0d0887"
             ],
             [
              0.1111111111111111,
              "#46039f"
             ],
             [
              0.2222222222222222,
              "#7201a8"
             ],
             [
              0.3333333333333333,
              "#9c179e"
             ],
             [
              0.4444444444444444,
              "#bd3786"
             ],
             [
              0.5555555555555556,
              "#d8576b"
             ],
             [
              0.6666666666666666,
              "#ed7953"
             ],
             [
              0.7777777777777778,
              "#fb9f3a"
             ],
             [
              0.8888888888888888,
              "#fdca26"
             ],
             [
              1,
              "#f0f921"
             ]
            ],
            "type": "heatmap"
           }
          ],
          "heatmapgl": [
           {
            "colorbar": {
             "outlinewidth": 0,
             "ticks": ""
            },
            "colorscale": [
             [
              0,
              "#0d0887"
             ],
             [
              0.1111111111111111,
              "#46039f"
             ],
             [
              0.2222222222222222,
              "#7201a8"
             ],
             [
              0.3333333333333333,
              "#9c179e"
             ],
             [
              0.4444444444444444,
              "#bd3786"
             ],
             [
              0.5555555555555556,
              "#d8576b"
             ],
             [
              0.6666666666666666,
              "#ed7953"
             ],
             [
              0.7777777777777778,
              "#fb9f3a"
             ],
             [
              0.8888888888888888,
              "#fdca26"
             ],
             [
              1,
              "#f0f921"
             ]
            ],
            "type": "heatmapgl"
           }
          ],
          "histogram": [
           {
            "marker": {
             "pattern": {
              "fillmode": "overlay",
              "size": 10,
              "solidity": 0.2
             }
            },
            "type": "histogram"
           }
          ],
          "histogram2d": [
           {
            "colorbar": {
             "outlinewidth": 0,
             "ticks": ""
            },
            "colorscale": [
             [
              0,
              "#0d0887"
             ],
             [
              0.1111111111111111,
              "#46039f"
             ],
             [
              0.2222222222222222,
              "#7201a8"
             ],
             [
              0.3333333333333333,
              "#9c179e"
             ],
             [
              0.4444444444444444,
              "#bd3786"
             ],
             [
              0.5555555555555556,
              "#d8576b"
             ],
             [
              0.6666666666666666,
              "#ed7953"
             ],
             [
              0.7777777777777778,
              "#fb9f3a"
             ],
             [
              0.8888888888888888,
              "#fdca26"
             ],
             [
              1,
              "#f0f921"
             ]
            ],
            "type": "histogram2d"
           }
          ],
          "histogram2dcontour": [
           {
            "colorbar": {
             "outlinewidth": 0,
             "ticks": ""
            },
            "colorscale": [
             [
              0,
              "#0d0887"
             ],
             [
              0.1111111111111111,
              "#46039f"
             ],
             [
              0.2222222222222222,
              "#7201a8"
             ],
             [
              0.3333333333333333,
              "#9c179e"
             ],
             [
              0.4444444444444444,
              "#bd3786"
             ],
             [
              0.5555555555555556,
              "#d8576b"
             ],
             [
              0.6666666666666666,
              "#ed7953"
             ],
             [
              0.7777777777777778,
              "#fb9f3a"
             ],
             [
              0.8888888888888888,
              "#fdca26"
             ],
             [
              1,
              "#f0f921"
             ]
            ],
            "type": "histogram2dcontour"
           }
          ],
          "mesh3d": [
           {
            "colorbar": {
             "outlinewidth": 0,
             "ticks": ""
            },
            "type": "mesh3d"
           }
          ],
          "parcoords": [
           {
            "line": {
             "colorbar": {
              "outlinewidth": 0,
              "ticks": ""
             }
            },
            "type": "parcoords"
           }
          ],
          "pie": [
           {
            "automargin": true,
            "type": "pie"
           }
          ],
          "scatter": [
           {
            "fillpattern": {
             "fillmode": "overlay",
             "size": 10,
             "solidity": 0.2
            },
            "type": "scatter"
           }
          ],
          "scatter3d": [
           {
            "line": {
             "colorbar": {
              "outlinewidth": 0,
              "ticks": ""
             }
            },
            "marker": {
             "colorbar": {
              "outlinewidth": 0,
              "ticks": ""
             }
            },
            "type": "scatter3d"
           }
          ],
          "scattercarpet": [
           {
            "marker": {
             "colorbar": {
              "outlinewidth": 0,
              "ticks": ""
             }
            },
            "type": "scattercarpet"
           }
          ],
          "scattergeo": [
           {
            "marker": {
             "colorbar": {
              "outlinewidth": 0,
              "ticks": ""
             }
            },
            "type": "scattergeo"
           }
          ],
          "scattergl": [
           {
            "marker": {
             "colorbar": {
              "outlinewidth": 0,
              "ticks": ""
             }
            },
            "type": "scattergl"
           }
          ],
          "scattermapbox": [
           {
            "marker": {
             "colorbar": {
              "outlinewidth": 0,
              "ticks": ""
             }
            },
            "type": "scattermapbox"
           }
          ],
          "scatterpolar": [
           {
            "marker": {
             "colorbar": {
              "outlinewidth": 0,
              "ticks": ""
             }
            },
            "type": "scatterpolar"
           }
          ],
          "scatterpolargl": [
           {
            "marker": {
             "colorbar": {
              "outlinewidth": 0,
              "ticks": ""
             }
            },
            "type": "scatterpolargl"
           }
          ],
          "scatterternary": [
           {
            "marker": {
             "colorbar": {
              "outlinewidth": 0,
              "ticks": ""
             }
            },
            "type": "scatterternary"
           }
          ],
          "surface": [
           {
            "colorbar": {
             "outlinewidth": 0,
             "ticks": ""
            },
            "colorscale": [
             [
              0,
              "#0d0887"
             ],
             [
              0.1111111111111111,
              "#46039f"
             ],
             [
              0.2222222222222222,
              "#7201a8"
             ],
             [
              0.3333333333333333,
              "#9c179e"
             ],
             [
              0.4444444444444444,
              "#bd3786"
             ],
             [
              0.5555555555555556,
              "#d8576b"
             ],
             [
              0.6666666666666666,
              "#ed7953"
             ],
             [
              0.7777777777777778,
              "#fb9f3a"
             ],
             [
              0.8888888888888888,
              "#fdca26"
             ],
             [
              1,
              "#f0f921"
             ]
            ],
            "type": "surface"
           }
          ],
          "table": [
           {
            "cells": {
             "fill": {
              "color": "#EBF0F8"
             },
             "line": {
              "color": "white"
             }
            },
            "header": {
             "fill": {
              "color": "#C8D4E3"
             },
             "line": {
              "color": "white"
             }
            },
            "type": "table"
           }
          ]
         },
         "layout": {
          "annotationdefaults": {
           "arrowcolor": "#2a3f5f",
           "arrowhead": 0,
           "arrowwidth": 1
          },
          "autotypenumbers": "strict",
          "coloraxis": {
           "colorbar": {
            "outlinewidth": 0,
            "ticks": ""
           }
          },
          "colorscale": {
           "diverging": [
            [
             0,
             "#8e0152"
            ],
            [
             0.1,
             "#c51b7d"
            ],
            [
             0.2,
             "#de77ae"
            ],
            [
             0.3,
             "#f1b6da"
            ],
            [
             0.4,
             "#fde0ef"
            ],
            [
             0.5,
             "#f7f7f7"
            ],
            [
             0.6,
             "#e6f5d0"
            ],
            [
             0.7,
             "#b8e186"
            ],
            [
             0.8,
             "#7fbc41"
            ],
            [
             0.9,
             "#4d9221"
            ],
            [
             1,
             "#276419"
            ]
           ],
           "sequential": [
            [
             0,
             "#0d0887"
            ],
            [
             0.1111111111111111,
             "#46039f"
            ],
            [
             0.2222222222222222,
             "#7201a8"
            ],
            [
             0.3333333333333333,
             "#9c179e"
            ],
            [
             0.4444444444444444,
             "#bd3786"
            ],
            [
             0.5555555555555556,
             "#d8576b"
            ],
            [
             0.6666666666666666,
             "#ed7953"
            ],
            [
             0.7777777777777778,
             "#fb9f3a"
            ],
            [
             0.8888888888888888,
             "#fdca26"
            ],
            [
             1,
             "#f0f921"
            ]
           ],
           "sequentialminus": [
            [
             0,
             "#0d0887"
            ],
            [
             0.1111111111111111,
             "#46039f"
            ],
            [
             0.2222222222222222,
             "#7201a8"
            ],
            [
             0.3333333333333333,
             "#9c179e"
            ],
            [
             0.4444444444444444,
             "#bd3786"
            ],
            [
             0.5555555555555556,
             "#d8576b"
            ],
            [
             0.6666666666666666,
             "#ed7953"
            ],
            [
             0.7777777777777778,
             "#fb9f3a"
            ],
            [
             0.8888888888888888,
             "#fdca26"
            ],
            [
             1,
             "#f0f921"
            ]
           ]
          },
          "colorway": [
           "#636efa",
           "#EF553B",
           "#00cc96",
           "#ab63fa",
           "#FFA15A",
           "#19d3f3",
           "#FF6692",
           "#B6E880",
           "#FF97FF",
           "#FECB52"
          ],
          "font": {
           "color": "#2a3f5f"
          },
          "geo": {
           "bgcolor": "white",
           "lakecolor": "white",
           "landcolor": "#E5ECF6",
           "showlakes": true,
           "showland": true,
           "subunitcolor": "white"
          },
          "hoverlabel": {
           "align": "left"
          },
          "hovermode": "closest",
          "mapbox": {
           "style": "light"
          },
          "paper_bgcolor": "white",
          "plot_bgcolor": "#E5ECF6",
          "polar": {
           "angularaxis": {
            "gridcolor": "white",
            "linecolor": "white",
            "ticks": ""
           },
           "bgcolor": "#E5ECF6",
           "radialaxis": {
            "gridcolor": "white",
            "linecolor": "white",
            "ticks": ""
           }
          },
          "scene": {
           "xaxis": {
            "backgroundcolor": "#E5ECF6",
            "gridcolor": "white",
            "gridwidth": 2,
            "linecolor": "white",
            "showbackground": true,
            "ticks": "",
            "zerolinecolor": "white"
           },
           "yaxis": {
            "backgroundcolor": "#E5ECF6",
            "gridcolor": "white",
            "gridwidth": 2,
            "linecolor": "white",
            "showbackground": true,
            "ticks": "",
            "zerolinecolor": "white"
           },
           "zaxis": {
            "backgroundcolor": "#E5ECF6",
            "gridcolor": "white",
            "gridwidth": 2,
            "linecolor": "white",
            "showbackground": true,
            "ticks": "",
            "zerolinecolor": "white"
           }
          },
          "shapedefaults": {
           "line": {
            "color": "#2a3f5f"
           }
          },
          "ternary": {
           "aaxis": {
            "gridcolor": "white",
            "linecolor": "white",
            "ticks": ""
           },
           "baxis": {
            "gridcolor": "white",
            "linecolor": "white",
            "ticks": ""
           },
           "bgcolor": "#E5ECF6",
           "caxis": {
            "gridcolor": "white",
            "linecolor": "white",
            "ticks": ""
           }
          },
          "title": {
           "x": 0.05
          },
          "xaxis": {
           "automargin": true,
           "gridcolor": "white",
           "linecolor": "white",
           "ticks": "",
           "title": {
            "standoff": 15
           },
           "zerolinecolor": "white",
           "zerolinewidth": 2
          },
          "yaxis": {
           "automargin": true,
           "gridcolor": "white",
           "linecolor": "white",
           "ticks": "",
           "title": {
            "standoff": 15
           },
           "zerolinecolor": "white",
           "zerolinewidth": 2
          }
         }
        },
        "title": {
         "text": "Optimal number of clusters"
        },
        "xaxis": {
         "anchor": "y",
         "domain": [
          0,
          1
         ],
         "title": {
          "text": "Number of clusters"
         }
        },
        "yaxis": {
         "anchor": "x",
         "domain": [
          0,
          1
         ],
         "title": {
          "text": "Inertia"
         }
        }
       }
      },
      "text/html": [
       "<div>                            <div id=\"7465cabc-b70d-428d-8786-09678bbf2931\" class=\"plotly-graph-div\" style=\"height:525px; width:100%;\"></div>            <script type=\"text/javascript\">                require([\"plotly\"], function(Plotly) {                    window.PLOTLYENV=window.PLOTLYENV || {};                                    if (document.getElementById(\"7465cabc-b70d-428d-8786-09678bbf2931\")) {                    Plotly.newPlot(                        \"7465cabc-b70d-428d-8786-09678bbf2931\",                        [{\"hovertemplate\":\"Number of clusters=%{x}<br>Inertia=%{y}<extra></extra>\",\"legendgroup\":\"\",\"line\":{\"color\":\"#636efa\",\"dash\":\"solid\"},\"marker\":{\"symbol\":\"circle\"},\"mode\":\"lines\",\"name\":\"\",\"orientation\":\"v\",\"showlegend\":false,\"x\":[2,3,4,5,6,7,8,9,10,11,12,13,14,15,16,17,18,19,20],\"xaxis\":\"x\",\"y\":[5335.945039188136,4531.258789080317,3950.023063617401,3497.1359611268285,3206.055069835823,2958.691914359122,2769.3060195722483,2598.2299240744355,2406.1458262405467,2277.3046620223186,2179.3409264999054,2099.9449874208353,2005.6897416008605,1934.9476450404322,1879.9306177442945,1839.993787230064,1768.465930986824,1731.3953685700337,1670.7787500833026],\"yaxis\":\"y\",\"type\":\"scatter\"}],                        {\"template\":{\"data\":{\"histogram2dcontour\":[{\"type\":\"histogram2dcontour\",\"colorbar\":{\"outlinewidth\":0,\"ticks\":\"\"},\"colorscale\":[[0.0,\"#0d0887\"],[0.1111111111111111,\"#46039f\"],[0.2222222222222222,\"#7201a8\"],[0.3333333333333333,\"#9c179e\"],[0.4444444444444444,\"#bd3786\"],[0.5555555555555556,\"#d8576b\"],[0.6666666666666666,\"#ed7953\"],[0.7777777777777778,\"#fb9f3a\"],[0.8888888888888888,\"#fdca26\"],[1.0,\"#f0f921\"]]}],\"choropleth\":[{\"type\":\"choropleth\",\"colorbar\":{\"outlinewidth\":0,\"ticks\":\"\"}}],\"histogram2d\":[{\"type\":\"histogram2d\",\"colorbar\":{\"outlinewidth\":0,\"ticks\":\"\"},\"colorscale\":[[0.0,\"#0d0887\"],[0.1111111111111111,\"#46039f\"],[0.2222222222222222,\"#7201a8\"],[0.3333333333333333,\"#9c179e\"],[0.4444444444444444,\"#bd3786\"],[0.5555555555555556,\"#d8576b\"],[0.6666666666666666,\"#ed7953\"],[0.7777777777777778,\"#fb9f3a\"],[0.8888888888888888,\"#fdca26\"],[1.0,\"#f0f921\"]]}],\"heatmap\":[{\"type\":\"heatmap\",\"colorbar\":{\"outlinewidth\":0,\"ticks\":\"\"},\"colorscale\":[[0.0,\"#0d0887\"],[0.1111111111111111,\"#46039f\"],[0.2222222222222222,\"#7201a8\"],[0.3333333333333333,\"#9c179e\"],[0.4444444444444444,\"#bd3786\"],[0.5555555555555556,\"#d8576b\"],[0.6666666666666666,\"#ed7953\"],[0.7777777777777778,\"#fb9f3a\"],[0.8888888888888888,\"#fdca26\"],[1.0,\"#f0f921\"]]}],\"heatmapgl\":[{\"type\":\"heatmapgl\",\"colorbar\":{\"outlinewidth\":0,\"ticks\":\"\"},\"colorscale\":[[0.0,\"#0d0887\"],[0.1111111111111111,\"#46039f\"],[0.2222222222222222,\"#7201a8\"],[0.3333333333333333,\"#9c179e\"],[0.4444444444444444,\"#bd3786\"],[0.5555555555555556,\"#d8576b\"],[0.6666666666666666,\"#ed7953\"],[0.7777777777777778,\"#fb9f3a\"],[0.8888888888888888,\"#fdca26\"],[1.0,\"#f0f921\"]]}],\"contourcarpet\":[{\"type\":\"contourcarpet\",\"colorbar\":{\"outlinewidth\":0,\"ticks\":\"\"}}],\"contour\":[{\"type\":\"contour\",\"colorbar\":{\"outlinewidth\":0,\"ticks\":\"\"},\"colorscale\":[[0.0,\"#0d0887\"],[0.1111111111111111,\"#46039f\"],[0.2222222222222222,\"#7201a8\"],[0.3333333333333333,\"#9c179e\"],[0.4444444444444444,\"#bd3786\"],[0.5555555555555556,\"#d8576b\"],[0.6666666666666666,\"#ed7953\"],[0.7777777777777778,\"#fb9f3a\"],[0.8888888888888888,\"#fdca26\"],[1.0,\"#f0f921\"]]}],\"surface\":[{\"type\":\"surface\",\"colorbar\":{\"outlinewidth\":0,\"ticks\":\"\"},\"colorscale\":[[0.0,\"#0d0887\"],[0.1111111111111111,\"#46039f\"],[0.2222222222222222,\"#7201a8\"],[0.3333333333333333,\"#9c179e\"],[0.4444444444444444,\"#bd3786\"],[0.5555555555555556,\"#d8576b\"],[0.6666666666666666,\"#ed7953\"],[0.7777777777777778,\"#fb9f3a\"],[0.8888888888888888,\"#fdca26\"],[1.0,\"#f0f921\"]]}],\"mesh3d\":[{\"type\":\"mesh3d\",\"colorbar\":{\"outlinewidth\":0,\"ticks\":\"\"}}],\"scatter\":[{\"fillpattern\":{\"fillmode\":\"overlay\",\"size\":10,\"solidity\":0.2},\"type\":\"scatter\"}],\"parcoords\":[{\"type\":\"parcoords\",\"line\":{\"colorbar\":{\"outlinewidth\":0,\"ticks\":\"\"}}}],\"scatterpolargl\":[{\"type\":\"scatterpolargl\",\"marker\":{\"colorbar\":{\"outlinewidth\":0,\"ticks\":\"\"}}}],\"bar\":[{\"error_x\":{\"color\":\"#2a3f5f\"},\"error_y\":{\"color\":\"#2a3f5f\"},\"marker\":{\"line\":{\"color\":\"#E5ECF6\",\"width\":0.5},\"pattern\":{\"fillmode\":\"overlay\",\"size\":10,\"solidity\":0.2}},\"type\":\"bar\"}],\"scattergeo\":[{\"type\":\"scattergeo\",\"marker\":{\"colorbar\":{\"outlinewidth\":0,\"ticks\":\"\"}}}],\"scatterpolar\":[{\"type\":\"scatterpolar\",\"marker\":{\"colorbar\":{\"outlinewidth\":0,\"ticks\":\"\"}}}],\"histogram\":[{\"marker\":{\"pattern\":{\"fillmode\":\"overlay\",\"size\":10,\"solidity\":0.2}},\"type\":\"histogram\"}],\"scattergl\":[{\"type\":\"scattergl\",\"marker\":{\"colorbar\":{\"outlinewidth\":0,\"ticks\":\"\"}}}],\"scatter3d\":[{\"type\":\"scatter3d\",\"line\":{\"colorbar\":{\"outlinewidth\":0,\"ticks\":\"\"}},\"marker\":{\"colorbar\":{\"outlinewidth\":0,\"ticks\":\"\"}}}],\"scattermapbox\":[{\"type\":\"scattermapbox\",\"marker\":{\"colorbar\":{\"outlinewidth\":0,\"ticks\":\"\"}}}],\"scatterternary\":[{\"type\":\"scatterternary\",\"marker\":{\"colorbar\":{\"outlinewidth\":0,\"ticks\":\"\"}}}],\"scattercarpet\":[{\"type\":\"scattercarpet\",\"marker\":{\"colorbar\":{\"outlinewidth\":0,\"ticks\":\"\"}}}],\"carpet\":[{\"aaxis\":{\"endlinecolor\":\"#2a3f5f\",\"gridcolor\":\"white\",\"linecolor\":\"white\",\"minorgridcolor\":\"white\",\"startlinecolor\":\"#2a3f5f\"},\"baxis\":{\"endlinecolor\":\"#2a3f5f\",\"gridcolor\":\"white\",\"linecolor\":\"white\",\"minorgridcolor\":\"white\",\"startlinecolor\":\"#2a3f5f\"},\"type\":\"carpet\"}],\"table\":[{\"cells\":{\"fill\":{\"color\":\"#EBF0F8\"},\"line\":{\"color\":\"white\"}},\"header\":{\"fill\":{\"color\":\"#C8D4E3\"},\"line\":{\"color\":\"white\"}},\"type\":\"table\"}],\"barpolar\":[{\"marker\":{\"line\":{\"color\":\"#E5ECF6\",\"width\":0.5},\"pattern\":{\"fillmode\":\"overlay\",\"size\":10,\"solidity\":0.2}},\"type\":\"barpolar\"}],\"pie\":[{\"automargin\":true,\"type\":\"pie\"}]},\"layout\":{\"autotypenumbers\":\"strict\",\"colorway\":[\"#636efa\",\"#EF553B\",\"#00cc96\",\"#ab63fa\",\"#FFA15A\",\"#19d3f3\",\"#FF6692\",\"#B6E880\",\"#FF97FF\",\"#FECB52\"],\"font\":{\"color\":\"#2a3f5f\"},\"hovermode\":\"closest\",\"hoverlabel\":{\"align\":\"left\"},\"paper_bgcolor\":\"white\",\"plot_bgcolor\":\"#E5ECF6\",\"polar\":{\"bgcolor\":\"#E5ECF6\",\"angularaxis\":{\"gridcolor\":\"white\",\"linecolor\":\"white\",\"ticks\":\"\"},\"radialaxis\":{\"gridcolor\":\"white\",\"linecolor\":\"white\",\"ticks\":\"\"}},\"ternary\":{\"bgcolor\":\"#E5ECF6\",\"aaxis\":{\"gridcolor\":\"white\",\"linecolor\":\"white\",\"ticks\":\"\"},\"baxis\":{\"gridcolor\":\"white\",\"linecolor\":\"white\",\"ticks\":\"\"},\"caxis\":{\"gridcolor\":\"white\",\"linecolor\":\"white\",\"ticks\":\"\"}},\"coloraxis\":{\"colorbar\":{\"outlinewidth\":0,\"ticks\":\"\"}},\"colorscale\":{\"sequential\":[[0.0,\"#0d0887\"],[0.1111111111111111,\"#46039f\"],[0.2222222222222222,\"#7201a8\"],[0.3333333333333333,\"#9c179e\"],[0.4444444444444444,\"#bd3786\"],[0.5555555555555556,\"#d8576b\"],[0.6666666666666666,\"#ed7953\"],[0.7777777777777778,\"#fb9f3a\"],[0.8888888888888888,\"#fdca26\"],[1.0,\"#f0f921\"]],\"sequentialminus\":[[0.0,\"#0d0887\"],[0.1111111111111111,\"#46039f\"],[0.2222222222222222,\"#7201a8\"],[0.3333333333333333,\"#9c179e\"],[0.4444444444444444,\"#bd3786\"],[0.5555555555555556,\"#d8576b\"],[0.6666666666666666,\"#ed7953\"],[0.7777777777777778,\"#fb9f3a\"],[0.8888888888888888,\"#fdca26\"],[1.0,\"#f0f921\"]],\"diverging\":[[0,\"#8e0152\"],[0.1,\"#c51b7d\"],[0.2,\"#de77ae\"],[0.3,\"#f1b6da\"],[0.4,\"#fde0ef\"],[0.5,\"#f7f7f7\"],[0.6,\"#e6f5d0\"],[0.7,\"#b8e186\"],[0.8,\"#7fbc41\"],[0.9,\"#4d9221\"],[1,\"#276419\"]]},\"xaxis\":{\"gridcolor\":\"white\",\"linecolor\":\"white\",\"ticks\":\"\",\"title\":{\"standoff\":15},\"zerolinecolor\":\"white\",\"automargin\":true,\"zerolinewidth\":2},\"yaxis\":{\"gridcolor\":\"white\",\"linecolor\":\"white\",\"ticks\":\"\",\"title\":{\"standoff\":15},\"zerolinecolor\":\"white\",\"automargin\":true,\"zerolinewidth\":2},\"scene\":{\"xaxis\":{\"backgroundcolor\":\"#E5ECF6\",\"gridcolor\":\"white\",\"linecolor\":\"white\",\"showbackground\":true,\"ticks\":\"\",\"zerolinecolor\":\"white\",\"gridwidth\":2},\"yaxis\":{\"backgroundcolor\":\"#E5ECF6\",\"gridcolor\":\"white\",\"linecolor\":\"white\",\"showbackground\":true,\"ticks\":\"\",\"zerolinecolor\":\"white\",\"gridwidth\":2},\"zaxis\":{\"backgroundcolor\":\"#E5ECF6\",\"gridcolor\":\"white\",\"linecolor\":\"white\",\"showbackground\":true,\"ticks\":\"\",\"zerolinecolor\":\"white\",\"gridwidth\":2}},\"shapedefaults\":{\"line\":{\"color\":\"#2a3f5f\"}},\"annotationdefaults\":{\"arrowcolor\":\"#2a3f5f\",\"arrowhead\":0,\"arrowwidth\":1},\"geo\":{\"bgcolor\":\"white\",\"landcolor\":\"#E5ECF6\",\"subunitcolor\":\"white\",\"showland\":true,\"showlakes\":true,\"lakecolor\":\"white\"},\"title\":{\"x\":0.05},\"mapbox\":{\"style\":\"light\"}}},\"xaxis\":{\"anchor\":\"y\",\"domain\":[0.0,1.0],\"title\":{\"text\":\"Number of clusters\"}},\"yaxis\":{\"anchor\":\"x\",\"domain\":[0.0,1.0],\"title\":{\"text\":\"Inertia\"}},\"legend\":{\"tracegroupgap\":0},\"title\":{\"text\":\"Optimal number of clusters\"}},                        {\"responsive\": true}                    ).then(function(){\n",
       "                            \n",
       "var gd = document.getElementById('7465cabc-b70d-428d-8786-09678bbf2931');\n",
       "var x = new MutationObserver(function (mutations, observer) {{\n",
       "        var display = window.getComputedStyle(gd).display;\n",
       "        if (!display || display === 'none') {{\n",
       "            console.log([gd, 'removed!']);\n",
       "            Plotly.purge(gd);\n",
       "            observer.disconnect();\n",
       "        }}\n",
       "}});\n",
       "\n",
       "// Listen for the removal of the full notebook cells\n",
       "var notebookContainer = gd.closest('#notebook-container');\n",
       "if (notebookContainer) {{\n",
       "    x.observe(notebookContainer, {childList: true});\n",
       "}}\n",
       "\n",
       "// Listen for the clearing of the current output cell\n",
       "var outputEl = gd.closest('.output');\n",
       "if (outputEl) {{\n",
       "    x.observe(outputEl, {childList: true});\n",
       "}}\n",
       "\n",
       "                        })                };                });            </script>        </div>"
      ]
     },
     "metadata": {},
     "output_type": "display_data"
    },
    {
     "data": {
      "text/plain": [
       "<Figure size 1080x576 with 0 Axes>"
      ]
     },
     "metadata": {},
     "output_type": "display_data"
    }
   ],
   "source": [
    "#### Tenemos que quitar la columna cluster que hemos anadido antes:\n",
    "try:\n",
    "    df_train.drop(columns='cluster',inplace=True)\n",
    "except:\n",
    "    pass\n",
    "\n",
    "elbow_plot(df_train,columns_to_k=df_train.columns,range_n_clusters=np.arange(2,21));\n",
    "pass"
   ]
  },
  {
   "cell_type": "markdown",
   "id": "15b44502",
   "metadata": {},
   "source": [
    "Este es un muy buen ejemplo de los defectos del m'etodo del codo. No se ve un codo claro, sino que la curva es bastante suave. En apariencia, parece que con 5 clusters primero y con 10 despues hay cierta inflexion, pero no esta muy claro"
   ]
  },
  {
   "cell_type": "markdown",
   "id": "e1895ea8",
   "metadata": {},
   "source": [
    "## ALTERNATIVA: METODO DEL SILHOUETTE (SOFT CLUSTERING)\n",
    "\n",
    "El metodo del silhouette calcula para cada muestra un valor entre -1 y 1. Valores positivos signfican que la muestra esta bien clasificada dentro de su cluster y negativos que no lo esta, es decir, podria pertenecer a otro cluster perfectamente.\n",
    "\n",
    "El metodo del silhouette calcula para cada muestra la media de la distancia intracluster (a), es decir, contra todas las muestras de su cluster y la extra cluster contra el cluster mas cercano (b). Despues, se divide entre la mayor de ellas y se obtiene el valor:\n",
    "\n",
    "coeficiente=(b-a)/max(b,a)\n",
    "\n",
    "si a, distancia intracluster es mayor, el coeficiente dara negativo. Este metodo tiene dos grandes ventajas:\n",
    "\n",
    "- Permite dar un grado de clasificacion de cada muestra, es decir, podemos saber que muestras estan mejor clasificadas que otras (soft clustering);\n",
    "- Obtiene un valor para cada cluster como la media del silhouette de cada cluster y un valor para el total, con lo que se pueden comparar directamente los clusteres que se formen.\n",
    "\n",
    "Sin embargo, tiene una gran desventaja. Para poder calcular las distancias entre las diferentes muestras, se tiene que calcular la matriz de distancias. Esta es una matriz simetrica que contiene las distancias de cada muestra contra todas las demas. Este proceso requiere mucho tiempo de computacion y, a medida que el numero de muestras crece, se hace inviable por temas de tiempo de computo y tambien de memoria.\n",
    "\n",
    "No obstante, siempre que sea factible su calculo se recomienda. Veamos como se puede hacer.\n",
    "\n",
    "\n"
   ]
  },
  {
   "cell_type": "code",
   "execution_count": 84,
   "id": "f79e4c66",
   "metadata": {},
   "outputs": [],
   "source": [
    "from sklearn.metrics import silhouette_samples\n",
    "from sklearn.metrics import silhouette_score"
   ]
  },
  {
   "cell_type": "markdown",
   "id": "383aa211",
   "metadata": {},
   "source": [
    "Veamos para el caso de 4 clusteres que valor se obtiene"
   ]
  },
  {
   "cell_type": "code",
   "execution_count": null,
   "id": "49381f26",
   "metadata": {},
   "outputs": [],
   "source": []
  }
 ],
 "metadata": {
  "kernelspec": {
   "display_name": "Python 3 (ipykernel)",
   "language": "python",
   "name": "python3"
  },
  "language_info": {
   "codemirror_mode": {
    "name": "ipython",
    "version": 3
   },
   "file_extension": ".py",
   "mimetype": "text/x-python",
   "name": "python",
   "nbconvert_exporter": "python",
   "pygments_lexer": "ipython3",
   "version": "3.9.7"
  }
 },
 "nbformat": 4,
 "nbformat_minor": 5
}
